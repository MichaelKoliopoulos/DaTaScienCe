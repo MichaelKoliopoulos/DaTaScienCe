{
 "cells": [
  {
   "cell_type": "markdown",
   "id": "8f19acac-d0d3-4bc3-b32a-939b61c2bf21",
   "metadata": {},
   "source": [
    "# Youtube Scrapping with Pytube"
   ]
  },
  {
   "cell_type": "markdown",
   "id": "ee644c2c-bd25-47c2-a27b-1fb3667988a3",
   "metadata": {},
   "source": [
    "#### *pytube is a lightweight, Pythonic, dependency-free, library (and command-line utility) for downloading YouTube Videos. It allow us with minimal code to download a YouTube Video along with getting relevant info.*"
   ]
  },
  {
   "cell_type": "markdown",
   "id": "96caa784-d8aa-4416-afed-43e313649751",
   "metadata": {},
   "source": [
    "*Import Pytube Library*"
   ]
  },
  {
   "cell_type": "code",
   "execution_count": 2,
   "id": "6a917a33-67aa-4057-9fbf-0bf65f49a963",
   "metadata": {},
   "outputs": [],
   "source": [
    "from pytube import YouTube"
   ]
  },
  {
   "cell_type": "markdown",
   "id": "582c3db5-983f-4d79-abf2-7eb2f9f276af",
   "metadata": {},
   "source": [
    "*Enter the Link of the Youtube Video that you want to download and take info from.*"
   ]
  },
  {
   "cell_type": "code",
   "execution_count": 3,
   "id": "6797a9c0-acb4-453d-8d5d-5a0fea56a903",
   "metadata": {},
   "outputs": [
    {
     "name": "stdin",
     "output_type": "stream",
     "text": [
      "Enter The Link of The Youtube Video:  https://www.youtube.com/watch?v=tnxx7TeHhG0&list=WL&index=2\n"
     ]
    }
   ],
   "source": [
    "video_link = input(\"Enter The Link of The Youtube Video: \")\n",
    "yt = YouTube(video_link)"
   ]
  },
  {
   "cell_type": "markdown",
   "id": "26e7f5ec-644f-42fb-ae7c-a91563127ccd",
   "metadata": {},
   "source": [
    "*Get the Title, Number of Views, Length and Description. \n",
    "The link i provided is from a recipe video, so we get the actuall recipe as well from the description. It is very tasty and healthy, you should try it*"
   ]
  },
  {
   "cell_type": "code",
   "execution_count": 4,
   "id": "53dff299-67a6-4e38-885d-9994f8c54432",
   "metadata": {},
   "outputs": [
    {
     "name": "stdout",
     "output_type": "stream",
     "text": [
      "Title : I don’t need anything else if I have a beer and pork neck\n",
      "Number of Views : 13010\n",
      "Video Duration : 217\n",
      "Video Description : I don’t need anything else if I have a beer and pork neck\n",
      "\n",
      "Ingredients:\n",
      "pork neck - 600 g (21.16 oz)\n",
      "salt - 10 g (0.35 oz)\n",
      "black pepper - 5 g (0.18 oz)\n",
      "garlic - 3 cloves\n",
      "leek - 200 g (7 oz)\n",
      "mushrooms - 300 g (10.6 oz)\n",
      "bell pepper - 250 g (8.8 oz)\n",
      "soy sauce - 20 ml (0.7 fl oz)\n",
      "barbeque sauce - 10 ml (0.34 fl oz)\n",
      "beer - 500 ml (16.9 fl oz)\n",
      "Cook over medium fire for 35 min\n",
      "\n",
      "for the garnish composition:\n",
      "rice - 250 g (8.8 oz)\n",
      "leek - 150 g (5.3 oz)\n",
      "carrot - 200 g (7 oz)\n",
      "butter - 12 g (0.42 oz)\n",
      "salt - 5 g (0.18 oz)\n",
      "Cook over low fire for 20 min\n",
      "\n",
      "\n",
      "\n",
      "Follow us on:\n",
      "Facebook: https://www.facebook.com/Cookrate.ENG/\n"
     ]
    }
   ],
   "source": [
    "# To print the title\n",
    "print(\"Title :\", yt.title)\n",
    "# To get the number of views\n",
    "print(\"Number of Views :\", yt.views)\n",
    "# To get the length of the video\n",
    "print(\"Video Duration :\", yt.length)\n",
    "# To get the Video description\n",
    "print(\"Video Description :\", yt.description)"
   ]
  },
  {
   "cell_type": "markdown",
   "id": "a5d8829d-fb64-424a-a4f9-adb892db41cf",
   "metadata": {},
   "source": [
    "*Download the highest quality video.*"
   ]
  },
  {
   "cell_type": "code",
   "execution_count": 14,
   "id": "be624316-cb5f-4e25-87ec-a2134bc62458",
   "metadata": {},
   "outputs": [
    {
     "name": "stdout",
     "output_type": "stream",
     "text": [
      "Download completed!!\n"
     ]
    }
   ],
   "source": [
    "stream = yt.streams.get_highest_resolution()\n",
    "stream.download()\n",
    "print(\"Download is completed!\")"
   ]
  }
 ],
 "metadata": {
  "kernelspec": {
   "display_name": "Python 3 (ipykernel)",
   "language": "python",
   "name": "python3"
  },
  "language_info": {
   "codemirror_mode": {
    "name": "ipython",
    "version": 3
   },
   "file_extension": ".py",
   "mimetype": "text/x-python",
   "name": "python",
   "nbconvert_exporter": "python",
   "pygments_lexer": "ipython3",
   "version": "3.9.7"
  }
 },
 "nbformat": 4,
 "nbformat_minor": 5
}
