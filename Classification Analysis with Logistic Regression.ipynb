{
 "cells": [
  {
   "cell_type": "markdown",
   "id": "b2f48653-4953-4d10-8a83-8965c690255e",
   "metadata": {},
   "source": [
    "# Classification on the Titanic Dataset, predicting whether a passenger will survive or not. "
   ]
  },
  {
   "cell_type": "markdown",
   "id": "369ece66-ad35-44fe-ab26-c99bc4f76ea2",
   "metadata": {
    "tags": []
   },
   "source": [
    "*First we will import the required libraries and read our dataset.*"
   ]
  },
  {
   "cell_type": "code",
   "execution_count": 3,
   "id": "74868843-ad58-4e42-947c-4e1d2105c7c4",
   "metadata": {},
   "outputs": [],
   "source": [
    "import numpy as np\n",
    "import pandas as pd\n",
    "import matplotlib.pyplot as plt\n",
    "import seaborn as sns\n",
    "%matplotlib inline"
   ]
  },
  {
   "cell_type": "code",
   "execution_count": 73,
   "id": "20524247-15e0-4a22-a3b6-fd9fa0c0e92b",
   "metadata": {},
   "outputs": [],
   "source": [
    "df = pd.read_csv('titanic.csv') "
   ]
  },
  {
   "cell_type": "markdown",
   "id": "10f9b8a4-685f-4a9c-80b0-e9ee014910d3",
   "metadata": {},
   "source": [
    "*Let's check the dataframe.*"
   ]
  },
  {
   "cell_type": "code",
   "execution_count": 76,
   "id": "a063e2a8-73ba-4bd0-925d-117b95c66b12",
   "metadata": {},
   "outputs": [
    {
     "data": {
      "text/html": [
       "<div>\n",
       "<style scoped>\n",
       "    .dataframe tbody tr th:only-of-type {\n",
       "        vertical-align: middle;\n",
       "    }\n",
       "\n",
       "    .dataframe tbody tr th {\n",
       "        vertical-align: top;\n",
       "    }\n",
       "\n",
       "    .dataframe thead th {\n",
       "        text-align: right;\n",
       "    }\n",
       "</style>\n",
       "<table border=\"1\" class=\"dataframe\">\n",
       "  <thead>\n",
       "    <tr style=\"text-align: right;\">\n",
       "      <th></th>\n",
       "      <th>pclass</th>\n",
       "      <th>survived</th>\n",
       "      <th>name</th>\n",
       "      <th>sex</th>\n",
       "      <th>age</th>\n",
       "      <th>sibsp</th>\n",
       "      <th>parch</th>\n",
       "      <th>ticket</th>\n",
       "      <th>fare</th>\n",
       "      <th>cabin</th>\n",
       "      <th>embarked</th>\n",
       "    </tr>\n",
       "  </thead>\n",
       "  <tbody>\n",
       "    <tr>\n",
       "      <th>0</th>\n",
       "      <td>1</td>\n",
       "      <td>1</td>\n",
       "      <td>Allen, Miss. Elisabeth Walton</td>\n",
       "      <td>female</td>\n",
       "      <td>29.0000</td>\n",
       "      <td>0</td>\n",
       "      <td>0</td>\n",
       "      <td>24160</td>\n",
       "      <td>211.3375</td>\n",
       "      <td>B5</td>\n",
       "      <td>S</td>\n",
       "    </tr>\n",
       "    <tr>\n",
       "      <th>1</th>\n",
       "      <td>1</td>\n",
       "      <td>1</td>\n",
       "      <td>Allison, Master. Hudson Trevor</td>\n",
       "      <td>male</td>\n",
       "      <td>0.9167</td>\n",
       "      <td>1</td>\n",
       "      <td>2</td>\n",
       "      <td>113781</td>\n",
       "      <td>151.5500</td>\n",
       "      <td>C22 C26</td>\n",
       "      <td>S</td>\n",
       "    </tr>\n",
       "    <tr>\n",
       "      <th>2</th>\n",
       "      <td>1</td>\n",
       "      <td>0</td>\n",
       "      <td>Allison, Miss. Helen Loraine</td>\n",
       "      <td>female</td>\n",
       "      <td>2.0000</td>\n",
       "      <td>1</td>\n",
       "      <td>2</td>\n",
       "      <td>113781</td>\n",
       "      <td>151.5500</td>\n",
       "      <td>C22 C26</td>\n",
       "      <td>S</td>\n",
       "    </tr>\n",
       "    <tr>\n",
       "      <th>3</th>\n",
       "      <td>1</td>\n",
       "      <td>0</td>\n",
       "      <td>Allison, Mr. Hudson Joshua Creighton</td>\n",
       "      <td>male</td>\n",
       "      <td>30.0000</td>\n",
       "      <td>1</td>\n",
       "      <td>2</td>\n",
       "      <td>113781</td>\n",
       "      <td>151.5500</td>\n",
       "      <td>C22 C26</td>\n",
       "      <td>S</td>\n",
       "    </tr>\n",
       "    <tr>\n",
       "      <th>4</th>\n",
       "      <td>1</td>\n",
       "      <td>0</td>\n",
       "      <td>Allison, Mrs. Hudson J C (Bessie Waldo Daniels)</td>\n",
       "      <td>female</td>\n",
       "      <td>25.0000</td>\n",
       "      <td>1</td>\n",
       "      <td>2</td>\n",
       "      <td>113781</td>\n",
       "      <td>151.5500</td>\n",
       "      <td>C22 C26</td>\n",
       "      <td>S</td>\n",
       "    </tr>\n",
       "  </tbody>\n",
       "</table>\n",
       "</div>"
      ],
      "text/plain": [
       "   pclass  survived                                             name     sex  \\\n",
       "0       1         1                    Allen, Miss. Elisabeth Walton  female   \n",
       "1       1         1                   Allison, Master. Hudson Trevor    male   \n",
       "2       1         0                     Allison, Miss. Helen Loraine  female   \n",
       "3       1         0             Allison, Mr. Hudson Joshua Creighton    male   \n",
       "4       1         0  Allison, Mrs. Hudson J C (Bessie Waldo Daniels)  female   \n",
       "\n",
       "       age  sibsp  parch  ticket      fare    cabin embarked  \n",
       "0  29.0000      0      0   24160  211.3375       B5        S  \n",
       "1   0.9167      1      2  113781  151.5500  C22 C26        S  \n",
       "2   2.0000      1      2  113781  151.5500  C22 C26        S  \n",
       "3  30.0000      1      2  113781  151.5500  C22 C26        S  \n",
       "4  25.0000      1      2  113781  151.5500  C22 C26        S  "
      ]
     },
     "execution_count": 76,
     "metadata": {},
     "output_type": "execute_result"
    }
   ],
   "source": [
    "df.head()"
   ]
  },
  {
   "cell_type": "code",
   "execution_count": 79,
   "id": "139de28a-ccf8-46c2-83f4-bbc3c7f3acd6",
   "metadata": {},
   "outputs": [
    {
     "name": "stdout",
     "output_type": "stream",
     "text": [
      "<class 'pandas.core.frame.DataFrame'>\n",
      "RangeIndex: 1309 entries, 0 to 1308\n",
      "Data columns (total 11 columns):\n",
      " #   Column    Non-Null Count  Dtype  \n",
      "---  ------    --------------  -----  \n",
      " 0   pclass    1309 non-null   int64  \n",
      " 1   survived  1309 non-null   int64  \n",
      " 2   name      1309 non-null   object \n",
      " 3   sex       1309 non-null   object \n",
      " 4   age       1046 non-null   float64\n",
      " 5   sibsp     1309 non-null   int64  \n",
      " 6   parch     1309 non-null   int64  \n",
      " 7   ticket    1309 non-null   object \n",
      " 8   fare      1308 non-null   float64\n",
      " 9   cabin     295 non-null    object \n",
      " 10  embarked  1307 non-null   object \n",
      "dtypes: float64(2), int64(4), object(5)\n",
      "memory usage: 112.6+ KB\n"
     ]
    }
   ],
   "source": [
    "df.info()"
   ]
  },
  {
   "cell_type": "code",
   "execution_count": 78,
   "id": "bcc1bbe0-be52-4019-ac83-97ec4c834acf",
   "metadata": {},
   "outputs": [
    {
     "data": {
      "text/html": [
       "<div>\n",
       "<style scoped>\n",
       "    .dataframe tbody tr th:only-of-type {\n",
       "        vertical-align: middle;\n",
       "    }\n",
       "\n",
       "    .dataframe tbody tr th {\n",
       "        vertical-align: top;\n",
       "    }\n",
       "\n",
       "    .dataframe thead th {\n",
       "        text-align: right;\n",
       "    }\n",
       "</style>\n",
       "<table border=\"1\" class=\"dataframe\">\n",
       "  <thead>\n",
       "    <tr style=\"text-align: right;\">\n",
       "      <th></th>\n",
       "      <th>pclass</th>\n",
       "      <th>survived</th>\n",
       "      <th>age</th>\n",
       "      <th>sibsp</th>\n",
       "      <th>parch</th>\n",
       "      <th>fare</th>\n",
       "    </tr>\n",
       "  </thead>\n",
       "  <tbody>\n",
       "    <tr>\n",
       "      <th>count</th>\n",
       "      <td>1309.000000</td>\n",
       "      <td>1309.000000</td>\n",
       "      <td>1046.000000</td>\n",
       "      <td>1309.000000</td>\n",
       "      <td>1309.000000</td>\n",
       "      <td>1308.000000</td>\n",
       "    </tr>\n",
       "    <tr>\n",
       "      <th>mean</th>\n",
       "      <td>2.294882</td>\n",
       "      <td>0.381971</td>\n",
       "      <td>29.881135</td>\n",
       "      <td>0.498854</td>\n",
       "      <td>0.385027</td>\n",
       "      <td>33.295479</td>\n",
       "    </tr>\n",
       "    <tr>\n",
       "      <th>std</th>\n",
       "      <td>0.837836</td>\n",
       "      <td>0.486055</td>\n",
       "      <td>14.413500</td>\n",
       "      <td>1.041658</td>\n",
       "      <td>0.865560</td>\n",
       "      <td>51.758668</td>\n",
       "    </tr>\n",
       "    <tr>\n",
       "      <th>min</th>\n",
       "      <td>1.000000</td>\n",
       "      <td>0.000000</td>\n",
       "      <td>0.166700</td>\n",
       "      <td>0.000000</td>\n",
       "      <td>0.000000</td>\n",
       "      <td>0.000000</td>\n",
       "    </tr>\n",
       "    <tr>\n",
       "      <th>25%</th>\n",
       "      <td>2.000000</td>\n",
       "      <td>0.000000</td>\n",
       "      <td>21.000000</td>\n",
       "      <td>0.000000</td>\n",
       "      <td>0.000000</td>\n",
       "      <td>7.895800</td>\n",
       "    </tr>\n",
       "    <tr>\n",
       "      <th>50%</th>\n",
       "      <td>3.000000</td>\n",
       "      <td>0.000000</td>\n",
       "      <td>28.000000</td>\n",
       "      <td>0.000000</td>\n",
       "      <td>0.000000</td>\n",
       "      <td>14.454200</td>\n",
       "    </tr>\n",
       "    <tr>\n",
       "      <th>75%</th>\n",
       "      <td>3.000000</td>\n",
       "      <td>1.000000</td>\n",
       "      <td>39.000000</td>\n",
       "      <td>1.000000</td>\n",
       "      <td>0.000000</td>\n",
       "      <td>31.275000</td>\n",
       "    </tr>\n",
       "    <tr>\n",
       "      <th>max</th>\n",
       "      <td>3.000000</td>\n",
       "      <td>1.000000</td>\n",
       "      <td>80.000000</td>\n",
       "      <td>8.000000</td>\n",
       "      <td>9.000000</td>\n",
       "      <td>512.329200</td>\n",
       "    </tr>\n",
       "  </tbody>\n",
       "</table>\n",
       "</div>"
      ],
      "text/plain": [
       "            pclass     survived          age        sibsp        parch  \\\n",
       "count  1309.000000  1309.000000  1046.000000  1309.000000  1309.000000   \n",
       "mean      2.294882     0.381971    29.881135     0.498854     0.385027   \n",
       "std       0.837836     0.486055    14.413500     1.041658     0.865560   \n",
       "min       1.000000     0.000000     0.166700     0.000000     0.000000   \n",
       "25%       2.000000     0.000000    21.000000     0.000000     0.000000   \n",
       "50%       3.000000     0.000000    28.000000     0.000000     0.000000   \n",
       "75%       3.000000     1.000000    39.000000     1.000000     0.000000   \n",
       "max       3.000000     1.000000    80.000000     8.000000     9.000000   \n",
       "\n",
       "              fare  \n",
       "count  1308.000000  \n",
       "mean     33.295479  \n",
       "std      51.758668  \n",
       "min       0.000000  \n",
       "25%       7.895800  \n",
       "50%      14.454200  \n",
       "75%      31.275000  \n",
       "max     512.329200  "
      ]
     },
     "execution_count": 78,
     "metadata": {},
     "output_type": "execute_result"
    }
   ],
   "source": [
    "df.describe()"
   ]
  },
  {
   "cell_type": "markdown",
   "id": "ecefe8c1-792c-4463-b333-50ec1042b79f",
   "metadata": {},
   "source": [
    "*The dataframe consists of 1309 instances and 10 attributes:*\n",
    "- *pclass: Passenger Class (1 = 1st; 2 = 2nd; 3 = 3rd)*\n",
    "- *survived: Survival (0 = No; 1 = Yes)*\n",
    "- *name: Name of passenger*\n",
    "- *sex: Sex of passenger*\n",
    "- *age: Age of passenger*\n",
    "- *sibsp: Number of Siblings/Spouses Aboard*\n",
    "- *parch: Number of Parents/Children Aboard*\n",
    "- *ticket: Ticket Number*\n",
    "- *fare: Passenger fare (British pounds)*\n",
    "- *cabin: Cabin*\n",
    "- *embarked: Port of Embarkation (C = Cherbourg; Q = Queenstown; S = Southampton)*"
   ]
  },
  {
   "cell_type": "markdown",
   "id": "a2def1bf-90d2-4476-8ff0-6edd50b947d2",
   "metadata": {},
   "source": [
    "*First of all, we can clearly see that the dataset hasnt got any outliers but the attributes 'age' and especially 'cabin' have a lot of missing values that we have to deal with later.*"
   ]
  },
  {
   "cell_type": "markdown",
   "id": "7bd15e5b-098d-4169-bec3-0c509cbe2566",
   "metadata": {},
   "source": [
    "## Exploratory Data Analysis."
   ]
  },
  {
   "cell_type": "markdown",
   "id": "8e871dba-e083-4132-aed2-764ac56957df",
   "metadata": {},
   "source": [
    "*Let's examine the target variable first.*"
   ]
  },
  {
   "cell_type": "code",
   "execution_count": 80,
   "id": "8c6bd9ac-2f76-445d-bf89-2eb342387af4",
   "metadata": {},
   "outputs": [
    {
     "name": "stderr",
     "output_type": "stream",
     "text": [
      "/home/michael/anaconda3/lib/python3.9/site-packages/seaborn/_decorators.py:36: FutureWarning: Pass the following variable as a keyword arg: x. From version 0.12, the only valid positional argument will be `data`, and passing other arguments without an explicit keyword will result in an error or misinterpretation.\n",
      "  warnings.warn(\n"
     ]
    },
    {
     "data": {
      "text/plain": [
       "<AxesSubplot:xlabel='survived', ylabel='count'>"
      ]
     },
     "execution_count": 80,
     "metadata": {},
     "output_type": "execute_result"
    },
    {
     "data": {
      "image/png": "[encoded data removed]",
      "text/plain": [
       "<Figure size 864x576 with 1 Axes>"
      ]
     },
     "metadata": {
      "needs_background": "light"
     },
     "output_type": "display_data"
    }
   ],
   "source": [
    "plt.figure(figsize=(12,8))\n",
    "sns.countplot('survived', data = df)"
   ]
  },
  {
   "cell_type": "markdown",
   "id": "bb3a4532-6845-42e5-8596-dd72df8af0cb",
   "metadata": {},
   "source": [
    "*We can clearly see that the ones that didn't survive far outnumber the survivors, but the good news are that our target variable isn't imbalanced.*"
   ]
  },
  {
   "cell_type": "markdown",
   "id": "66a9c617-246d-4f2b-beb6-5a6ed8d80bd8",
   "metadata": {},
   "source": [
    "*Now lets inspect our target variable in conjuction with 'sex'.*"
   ]
  },
  {
   "cell_type": "code",
   "execution_count": 81,
   "id": "1ca5911c-1a4b-42c1-a4ca-a8c68d9ea78c",
   "metadata": {},
   "outputs": [
    {
     "name": "stderr",
     "output_type": "stream",
     "text": [
      "/home/michael/anaconda3/lib/python3.9/site-packages/seaborn/_decorators.py:36: FutureWarning: Pass the following variable as a keyword arg: x. From version 0.12, the only valid positional argument will be `data`, and passing other arguments without an explicit keyword will result in an error or misinterpretation.\n",
      "  warnings.warn(\n"
     ]
    },
    {
     "data": {
      "text/plain": [
       "<AxesSubplot:xlabel='survived', ylabel='count'>"
      ]
     },
     "execution_count": 81,
     "metadata": {},
     "output_type": "execute_result"
    },
    {
     "data": {
      "image/png": "[encoded data removed]",
      "text/plain": [
       "<Figure size 864x576 with 1 Axes>"
      ]
     },
     "metadata": {
      "needs_background": "light"
     },
     "output_type": "display_data"
    }
   ],
   "source": [
    "plt.figure(figsize=(12,8))\n",
    "sns.countplot('survived',data = df, hue = 'sex')"
   ]
  },
  {
   "cell_type": "markdown",
   "id": "4632e7b2-9105-4f16-8760-fa219d04fbc1",
   "metadata": {},
   "source": [
    "*It is obvious that the survival ratio is in heavy favor of the women onboard, since the majority of men didn't survive.*"
   ]
  },
  {
   "cell_type": "markdown",
   "id": "5a960e35-a0b8-43d9-a26f-77cd49b8c68c",
   "metadata": {},
   "source": [
    "*What about the survival ratio in conjuction with passenger class.*"
   ]
  },
  {
   "cell_type": "code",
   "execution_count": 82,
   "id": "8b482622-1858-4b8a-92e5-34a29d822531",
   "metadata": {},
   "outputs": [
    {
     "name": "stderr",
     "output_type": "stream",
     "text": [
      "/home/michael/anaconda3/lib/python3.9/site-packages/seaborn/_decorators.py:36: FutureWarning: Pass the following variable as a keyword arg: x. From version 0.12, the only valid positional argument will be `data`, and passing other arguments without an explicit keyword will result in an error or misinterpretation.\n",
      "  warnings.warn(\n"
     ]
    },
    {
     "data": {
      "text/plain": [
       "<AxesSubplot:xlabel='survived', ylabel='count'>"
      ]
     },
     "execution_count": 82,
     "metadata": {},
     "output_type": "execute_result"
    },
    {
     "data": {
      "image/png": "[encoded data removed]",
      "text/plain": [
       "<Figure size 864x576 with 1 Axes>"
      ]
     },
     "metadata": {
      "needs_background": "light"
     },
     "output_type": "display_data"
    }
   ],
   "source": [
    "plt.figure(figsize=(12,8))\n",
    "sns.countplot('survived',data = df, hue = 'pclass')"
   ]
  },
  {
   "cell_type": "markdown",
   "id": "24861fe5-958d-4348-9210-9641e2690216",
   "metadata": {},
   "source": [
    "*Again it is obvious that the vast majority of survivors come from Passenger Class 1 and 2, while the passengers of class 3 didn't have many chances.*"
   ]
  },
  {
   "cell_type": "markdown",
   "id": "a081d7ab-b2fa-45ea-a240-2df5bb9adbf8",
   "metadata": {},
   "source": [
    "*Now let's check for the 'embarked' attribute and see if there is any connection with survival."
   ]
  },
  {
   "cell_type": "code",
   "execution_count": 83,
   "id": "8f8ab206-1efb-4273-a834-24c110a5510b",
   "metadata": {},
   "outputs": [
    {
     "name": "stderr",
     "output_type": "stream",
     "text": [
      "/home/michael/anaconda3/lib/python3.9/site-packages/seaborn/_decorators.py:36: FutureWarning: Pass the following variable as a keyword arg: x. From version 0.12, the only valid positional argument will be `data`, and passing other arguments without an explicit keyword will result in an error or misinterpretation.\n",
      "  warnings.warn(\n"
     ]
    },
    {
     "data": {
      "text/plain": [
       "<AxesSubplot:xlabel='survived', ylabel='count'>"
      ]
     },
     "execution_count": 83,
     "metadata": {},
     "output_type": "execute_result"
    },
    {
     "data": {
      "image/png": "[encoded data removed]",
      "text/plain": [
       "<Figure size 864x576 with 1 Axes>"
      ]
     },
     "metadata": {
      "needs_background": "light"
     },
     "output_type": "display_data"
    }
   ],
   "source": [
    "plt.figure(figsize=(12,8))\n",
    "sns.countplot('survived',data = df, hue = 'embarked')"
   ]
  },
  {
   "cell_type": "markdown",
   "id": "3472d62c-f832-4657-86e0-70fee6194070",
   "metadata": {},
   "source": [
    "*There seems to be some connection, so this will be another useful feature.*"
   ]
  },
  {
   "cell_type": "markdown",
   "id": "ea66f071-59e4-46fb-8b7b-a85fc0e03bcb",
   "metadata": {},
   "source": [
    "*Now we will do a countplot of the Passenger class in order to see the distribution of passengers.*"
   ]
  },
  {
   "cell_type": "code",
   "execution_count": 84,
   "id": "06e7b07b-3ab0-43eb-8e97-386a83ec5a85",
   "metadata": {},
   "outputs": [
    {
     "name": "stderr",
     "output_type": "stream",
     "text": [
      "/home/michael/anaconda3/lib/python3.9/site-packages/seaborn/_decorators.py:36: FutureWarning: Pass the following variable as a keyword arg: x. From version 0.12, the only valid positional argument will be `data`, and passing other arguments without an explicit keyword will result in an error or misinterpretation.\n",
      "  warnings.warn(\n"
     ]
    },
    {
     "data": {
      "text/plain": [
       "<AxesSubplot:xlabel='pclass', ylabel='count'>"
      ]
     },
     "execution_count": 84,
     "metadata": {},
     "output_type": "execute_result"
    },
    {
     "data": {
      "image/png": "[encoded data removed]",
      "text/plain": [
       "<Figure size 864x576 with 1 Axes>"
      ]
     },
     "metadata": {
      "needs_background": "light"
     },
     "output_type": "display_data"
    }
   ],
   "source": [
    "plt.figure(figsize=(12,8))\n",
    "sns.countplot('pclass',data = df)"
   ]
  },
  {
   "cell_type": "markdown",
   "id": "63a583b8-9712-4014-b337-13fed9557273",
   "metadata": {},
   "source": [
    "*The majority of the passengers belong to the 3rd class, with the smallest number of survivors.*"
   ]
  },
  {
   "cell_type": "markdown",
   "id": "46232849-2f09-4c14-9848-7f2cc6eae21c",
   "metadata": {},
   "source": [
    "*Let's do a countplot of the 'sibsp' attribute in order to visualize better.*"
   ]
  },
  {
   "cell_type": "code",
   "execution_count": 85,
   "id": "54839288-1171-40e2-9b41-4c7a7caff96e",
   "metadata": {},
   "outputs": [
    {
     "name": "stderr",
     "output_type": "stream",
     "text": [
      "/home/michael/anaconda3/lib/python3.9/site-packages/seaborn/_decorators.py:36: FutureWarning: Pass the following variable as a keyword arg: x. From version 0.12, the only valid positional argument will be `data`, and passing other arguments without an explicit keyword will result in an error or misinterpretation.\n",
      "  warnings.warn(\n"
     ]
    },
    {
     "data": {
      "text/plain": [
       "<AxesSubplot:xlabel='sibsp', ylabel='count'>"
      ]
     },
     "execution_count": 85,
     "metadata": {},
     "output_type": "execute_result"
    },
    {
     "data": {
      "image/png": "[encoded data removed]",
      "text/plain": [
       "<Figure size 864x576 with 1 Axes>"
      ]
     },
     "metadata": {
      "needs_background": "light"
     },
     "output_type": "display_data"
    }
   ],
   "source": [
    "plt.figure(figsize=(12,8))\n",
    "sns.countplot('sibsp',data = df)"
   ]
  },
  {
   "cell_type": "markdown",
   "id": "4c1df42a-2ad7-4a2f-a1da-0c50edec3c5f",
   "metadata": {},
   "source": [
    "*From the above graph, in conjuction with the previous ones we can conclude that the vast majority of passengers travelled alone and they were probably men belonging to the 3rdclass.*"
   ]
  },
  {
   "cell_type": "markdown",
   "id": "57065b50-f7c5-41e9-ba8d-2783ce4680c2",
   "metadata": {},
   "source": [
    "*Let's see how the age distribution is.*"
   ]
  },
  {
   "cell_type": "code",
   "execution_count": 86,
   "id": "f8649289-dc7e-42c4-a91c-049ba9438d77",
   "metadata": {},
   "outputs": [
    {
     "name": "stderr",
     "output_type": "stream",
     "text": [
      "/home/michael/anaconda3/lib/python3.9/site-packages/seaborn/distributions.py:2619: FutureWarning: `distplot` is a deprecated function and will be removed in a future version. Please adapt your code to use either `displot` (a figure-level function with similar flexibility) or `histplot` (an axes-level function for histograms).\n",
      "  warnings.warn(msg, FutureWarning)\n"
     ]
    },
    {
     "data": {
      "text/plain": [
       "<AxesSubplot:xlabel='age', ylabel='Density'>"
      ]
     },
     "execution_count": 86,
     "metadata": {},
     "output_type": "execute_result"
    },
    {
     "data": {
      "image/png": "[encoded data removed]",
      "text/plain": [
       "<Figure size 864x576 with 1 Axes>"
      ]
     },
     "metadata": {
      "needs_background": "light"
     },
     "output_type": "display_data"
    }
   ],
   "source": [
    "plt.figure(figsize=(12,8))\n",
    "sns.distplot(df['age'].dropna(), bins = 40)"
   ]
  },
  {
   "cell_type": "markdown",
   "id": "847c9c37-971c-4e3e-a62e-b0da2172dc10",
   "metadata": {},
   "source": [
    "*We can see that the majority of the passengers resides between the ages of 15 to 40, with a number of children and eldery onboard.*"
   ]
  },
  {
   "cell_type": "markdown",
   "id": "b5896847-c2c8-4842-9b06-da18729111be",
   "metadata": {},
   "source": [
    "### Missing values"
   ]
  },
  {
   "cell_type": "markdown",
   "id": "c0531f7b-99f0-404d-9941-48b0743fae37",
   "metadata": {},
   "source": [
    "*We will do a heatmap of the missing values in order to get a better grasp.*"
   ]
  },
  {
   "cell_type": "code",
   "execution_count": 87,
   "id": "5a942669-d99f-4713-a88e-565bba585f94",
   "metadata": {},
   "outputs": [
    {
     "data": {
      "text/plain": [
       "<AxesSubplot:>"
      ]
     },
     "execution_count": 87,
     "metadata": {},
     "output_type": "execute_result"
    },
    {
     "data": {
      "image/png": "[encoded data removed]",
      "text/plain": [
       "<Figure size 864x576 with 1 Axes>"
      ]
     },
     "metadata": {
      "needs_background": "light"
     },
     "output_type": "display_data"
    }
   ],
   "source": [
    "plt.figure(figsize=(12,8))\n",
    "sns.heatmap(df.isnull(), yticklabels=False, cbar = False, cmap = 'viridis')"
   ]
  },
  {
   "cell_type": "markdown",
   "id": "e5badf0e-08bf-4ff3-a3b9-5849752998a1",
   "metadata": {},
   "source": [
    "*The 'cabin' attribute has a lot of missing values so we will drop this column. The 'age' attribute is more manageable so we will impute and as far as the couple missing values of the 'embarked', we will just drop them also.*"
   ]
  },
  {
   "cell_type": "code",
   "execution_count": 88,
   "id": "201bd911-221d-48bf-aaa4-b14f816b9bea",
   "metadata": {},
   "outputs": [],
   "source": [
    "df.drop('cabin', axis = 1, inplace=True)"
   ]
  },
  {
   "cell_type": "markdown",
   "id": "6c2eeeb4-0f02-4cba-9995-9963991f5349",
   "metadata": {},
   "source": [
    "### Age imputation"
   ]
  },
  {
   "cell_type": "code",
   "execution_count": 89,
   "id": "744c2bbe-3ba7-48dc-9a3b-45dd49369880",
   "metadata": {},
   "outputs": [
    {
     "name": "stderr",
     "output_type": "stream",
     "text": [
      "/home/michael/anaconda3/lib/python3.9/site-packages/seaborn/_decorators.py:36: FutureWarning: Pass the following variables as keyword args: x, y. From version 0.12, the only valid positional argument will be `data`, and passing other arguments without an explicit keyword will result in an error or misinterpretation.\n",
      "  warnings.warn(\n"
     ]
    },
    {
     "data": {
      "text/plain": [
       "<AxesSubplot:xlabel='pclass', ylabel='age'>"
      ]
     },
     "execution_count": 89,
     "metadata": {},
     "output_type": "execute_result"
    },
    {
     "data": {
      "image/png": "[encoded data removed]",
      "text/plain": [
       "<Figure size 864x576 with 1 Axes>"
      ]
     },
     "metadata": {
      "needs_background": "light"
     },
     "output_type": "display_data"
    }
   ],
   "source": [
    "plt.figure(figsize=(12,8))\n",
    "sns.boxplot('pclass','age',data = df)"
   ]
  },
  {
   "cell_type": "markdown",
   "id": "cbf64e80-2e1c-4f6e-a954-682bf1b5854b",
   "metadata": {},
   "source": [
    "*From the boxplot above we can clearly see the correlation between age and passenger class, so we will impute the missing values of age according with their passenger class. In order to do that we will create a function that imputes the missing age of a person with the average age of the passenger class it belongs to.*"
   ]
  },
  {
   "cell_type": "code",
   "execution_count": 90,
   "id": "abdb905d-7ab5-453d-841d-91d1b613c159",
   "metadata": {},
   "outputs": [],
   "source": [
    "def age_imputation(cols):\n",
    "    age = cols[0]\n",
    "    pclass = cols[1]\n",
    "    \n",
    "    if pd.isnull(age):\n",
    "        if pclass ==1:\n",
    "            return df[df['pclass']==1]['age'].mean()\n",
    "        if pclass ==2:\n",
    "            return df[df['pclass']==2]['age'].mean()\n",
    "        else:\n",
    "            return df[df['pclass']==3]['age'].mean()\n",
    "    else:\n",
    "        return age    "
   ]
  },
  {
   "cell_type": "markdown",
   "id": "29115ddb-2449-4d4d-b3fd-ade4fa9eddb4",
   "metadata": {},
   "source": [
    "*Apply the function to the data.*"
   ]
  },
  {
   "cell_type": "code",
   "execution_count": 92,
   "id": "9ba68332-98e5-439a-82e0-a6e1b1ce03aa",
   "metadata": {},
   "outputs": [],
   "source": [
    "df['age'] = df[['age','pclass']].apply(age_imputation, axis =1)"
   ]
  },
  {
   "cell_type": "code",
   "execution_count": 94,
   "id": "d74a534c-206e-4b79-8af2-6824c83aac79",
   "metadata": {},
   "outputs": [],
   "source": [
    "#remove the couple missing values of 'embarked'\n",
    "df.dropna(inplace=True)"
   ]
  },
  {
   "cell_type": "markdown",
   "id": "e6e70e56-dc67-4af3-866a-af11ef40ed06",
   "metadata": {},
   "source": [
    "*Now if we produce the same heatmap again, we will see that we haven't any missing values.*"
   ]
  },
  {
   "cell_type": "code",
   "execution_count": 95,
   "id": "623c899f-379b-4fad-ae69-859dea7a2f39",
   "metadata": {},
   "outputs": [
    {
     "data": {
      "text/plain": [
       "<AxesSubplot:>"
      ]
     },
     "execution_count": 95,
     "metadata": {},
     "output_type": "execute_result"
    },
    {
     "data": {
      "image/png": "[encoded data removed]",
      "text/plain": [
       "<Figure size 864x576 with 1 Axes>"
      ]
     },
     "metadata": {
      "needs_background": "light"
     },
     "output_type": "display_data"
    }
   ],
   "source": [
    "plt.figure(figsize=(12,8))\n",
    "sns.heatmap(df.isnull(), yticklabels=False, cbar = False, cmap = 'viridis')"
   ]
  },
  {
   "cell_type": "markdown",
   "id": "e5ac5a6c-cf1c-42bd-9ce7-300839aecf8a",
   "metadata": {},
   "source": [
    "### Feature engineering"
   ]
  },
  {
   "cell_type": "markdown",
   "id": "12a1e45f-0925-4f1d-99a7-01094975ae36",
   "metadata": {},
   "source": [
    "*As we deduced from the exploratory data analysis, the sex will be a very useful feature for our machine learning algorithm, but we also inspect that whether a passenger is a child or not plays an important role in its survivla, so it will be better if we identify the childern and have them be represented on the 'sex' column*"
   ]
  },
  {
   "cell_type": "code",
   "execution_count": 96,
   "id": "f473d438-6188-4fee-a148-fcf088f21640",
   "metadata": {},
   "outputs": [],
   "source": [
    "#Create a function to get the children\n",
    "def get_child(person):\n",
    "    age, sex = person\n",
    "    if age < 14:\n",
    "        return 'child'\n",
    "    else:\n",
    "        return sex"
   ]
  },
  {
   "cell_type": "code",
   "execution_count": 97,
   "id": "f73751a9-c1ec-4d3d-a316-5f27421c5a24",
   "metadata": {},
   "outputs": [],
   "source": [
    "#Aplly the function and create a new 'Passenger' column\n",
    "df['passenger'] = df[['age','sex']].apply(get_child, axis =1)"
   ]
  },
  {
   "cell_type": "code",
   "execution_count": 98,
   "id": "5131a3f6-fb75-43b1-b3e1-5b6080d6d1e8",
   "metadata": {},
   "outputs": [
    {
     "data": {
      "text/html": [
       "<div>\n",
       "<style scoped>\n",
       "    .dataframe tbody tr th:only-of-type {\n",
       "        vertical-align: middle;\n",
       "    }\n",
       "\n",
       "    .dataframe tbody tr th {\n",
       "        vertical-align: top;\n",
       "    }\n",
       "\n",
       "    .dataframe thead th {\n",
       "        text-align: right;\n",
       "    }\n",
       "</style>\n",
       "<table border=\"1\" class=\"dataframe\">\n",
       "  <thead>\n",
       "    <tr style=\"text-align: right;\">\n",
       "      <th></th>\n",
       "      <th>pclass</th>\n",
       "      <th>survived</th>\n",
       "      <th>name</th>\n",
       "      <th>sex</th>\n",
       "      <th>age</th>\n",
       "      <th>sibsp</th>\n",
       "      <th>parch</th>\n",
       "      <th>ticket</th>\n",
       "      <th>fare</th>\n",
       "      <th>embarked</th>\n",
       "      <th>passenger</th>\n",
       "    </tr>\n",
       "  </thead>\n",
       "  <tbody>\n",
       "    <tr>\n",
       "      <th>0</th>\n",
       "      <td>1</td>\n",
       "      <td>1</td>\n",
       "      <td>Allen, Miss. Elisabeth Walton</td>\n",
       "      <td>female</td>\n",
       "      <td>29.0000</td>\n",
       "      <td>0</td>\n",
       "      <td>0</td>\n",
       "      <td>24160</td>\n",
       "      <td>211.3375</td>\n",
       "      <td>S</td>\n",
       "      <td>female</td>\n",
       "    </tr>\n",
       "    <tr>\n",
       "      <th>1</th>\n",
       "      <td>1</td>\n",
       "      <td>1</td>\n",
       "      <td>Allison, Master. Hudson Trevor</td>\n",
       "      <td>male</td>\n",
       "      <td>0.9167</td>\n",
       "      <td>1</td>\n",
       "      <td>2</td>\n",
       "      <td>113781</td>\n",
       "      <td>151.5500</td>\n",
       "      <td>S</td>\n",
       "      <td>child</td>\n",
       "    </tr>\n",
       "    <tr>\n",
       "      <th>2</th>\n",
       "      <td>1</td>\n",
       "      <td>0</td>\n",
       "      <td>Allison, Miss. Helen Loraine</td>\n",
       "      <td>female</td>\n",
       "      <td>2.0000</td>\n",
       "      <td>1</td>\n",
       "      <td>2</td>\n",
       "      <td>113781</td>\n",
       "      <td>151.5500</td>\n",
       "      <td>S</td>\n",
       "      <td>child</td>\n",
       "    </tr>\n",
       "    <tr>\n",
       "      <th>3</th>\n",
       "      <td>1</td>\n",
       "      <td>0</td>\n",
       "      <td>Allison, Mr. Hudson Joshua Creighton</td>\n",
       "      <td>male</td>\n",
       "      <td>30.0000</td>\n",
       "      <td>1</td>\n",
       "      <td>2</td>\n",
       "      <td>113781</td>\n",
       "      <td>151.5500</td>\n",
       "      <td>S</td>\n",
       "      <td>male</td>\n",
       "    </tr>\n",
       "    <tr>\n",
       "      <th>4</th>\n",
       "      <td>1</td>\n",
       "      <td>0</td>\n",
       "      <td>Allison, Mrs. Hudson J C (Bessie Waldo Daniels)</td>\n",
       "      <td>female</td>\n",
       "      <td>25.0000</td>\n",
       "      <td>1</td>\n",
       "      <td>2</td>\n",
       "      <td>113781</td>\n",
       "      <td>151.5500</td>\n",
       "      <td>S</td>\n",
       "      <td>female</td>\n",
       "    </tr>\n",
       "  </tbody>\n",
       "</table>\n",
       "</div>"
      ],
      "text/plain": [
       "   pclass  survived                                             name     sex  \\\n",
       "0       1         1                    Allen, Miss. Elisabeth Walton  female   \n",
       "1       1         1                   Allison, Master. Hudson Trevor    male   \n",
       "2       1         0                     Allison, Miss. Helen Loraine  female   \n",
       "3       1         0             Allison, Mr. Hudson Joshua Creighton    male   \n",
       "4       1         0  Allison, Mrs. Hudson J C (Bessie Waldo Daniels)  female   \n",
       "\n",
       "       age  sibsp  parch  ticket      fare embarked passenger  \n",
       "0  29.0000      0      0   24160  211.3375        S    female  \n",
       "1   0.9167      1      2  113781  151.5500        S     child  \n",
       "2   2.0000      1      2  113781  151.5500        S     child  \n",
       "3  30.0000      1      2  113781  151.5500        S      male  \n",
       "4  25.0000      1      2  113781  151.5500        S    female  "
      ]
     },
     "execution_count": 98,
     "metadata": {},
     "output_type": "execute_result"
    }
   ],
   "source": [
    "df.head()"
   ]
  },
  {
   "cell_type": "markdown",
   "id": "0593562a-2eb6-49d0-97d4-38d6e1797beb",
   "metadata": {},
   "source": [
    "*We can see that a new 'passenger' column is created with male, female and child. There's no need to use the sex column, so we will drop it.*"
   ]
  },
  {
   "cell_type": "code",
   "execution_count": 99,
   "id": "406873bf-073a-408c-a063-e8d6774db604",
   "metadata": {},
   "outputs": [],
   "source": [
    "df.drop('sex', axis =1, inplace=True)"
   ]
  },
  {
   "cell_type": "code",
   "execution_count": 100,
   "id": "a1dbb41b-1997-417a-8e70-c14ed5c1ceb2",
   "metadata": {},
   "outputs": [
    {
     "data": {
      "text/html": [
       "<div>\n",
       "<style scoped>\n",
       "    .dataframe tbody tr th:only-of-type {\n",
       "        vertical-align: middle;\n",
       "    }\n",
       "\n",
       "    .dataframe tbody tr th {\n",
       "        vertical-align: top;\n",
       "    }\n",
       "\n",
       "    .dataframe thead th {\n",
       "        text-align: right;\n",
       "    }\n",
       "</style>\n",
       "<table border=\"1\" class=\"dataframe\">\n",
       "  <thead>\n",
       "    <tr style=\"text-align: right;\">\n",
       "      <th></th>\n",
       "      <th>pclass</th>\n",
       "      <th>survived</th>\n",
       "      <th>name</th>\n",
       "      <th>age</th>\n",
       "      <th>sibsp</th>\n",
       "      <th>parch</th>\n",
       "      <th>ticket</th>\n",
       "      <th>fare</th>\n",
       "      <th>embarked</th>\n",
       "      <th>passenger</th>\n",
       "    </tr>\n",
       "  </thead>\n",
       "  <tbody>\n",
       "    <tr>\n",
       "      <th>0</th>\n",
       "      <td>1</td>\n",
       "      <td>1</td>\n",
       "      <td>Allen, Miss. Elisabeth Walton</td>\n",
       "      <td>29.0000</td>\n",
       "      <td>0</td>\n",
       "      <td>0</td>\n",
       "      <td>24160</td>\n",
       "      <td>211.3375</td>\n",
       "      <td>S</td>\n",
       "      <td>female</td>\n",
       "    </tr>\n",
       "    <tr>\n",
       "      <th>1</th>\n",
       "      <td>1</td>\n",
       "      <td>1</td>\n",
       "      <td>Allison, Master. Hudson Trevor</td>\n",
       "      <td>0.9167</td>\n",
       "      <td>1</td>\n",
       "      <td>2</td>\n",
       "      <td>113781</td>\n",
       "      <td>151.5500</td>\n",
       "      <td>S</td>\n",
       "      <td>child</td>\n",
       "    </tr>\n",
       "    <tr>\n",
       "      <th>2</th>\n",
       "      <td>1</td>\n",
       "      <td>0</td>\n",
       "      <td>Allison, Miss. Helen Loraine</td>\n",
       "      <td>2.0000</td>\n",
       "      <td>1</td>\n",
       "      <td>2</td>\n",
       "      <td>113781</td>\n",
       "      <td>151.5500</td>\n",
       "      <td>S</td>\n",
       "      <td>child</td>\n",
       "    </tr>\n",
       "    <tr>\n",
       "      <th>3</th>\n",
       "      <td>1</td>\n",
       "      <td>0</td>\n",
       "      <td>Allison, Mr. Hudson Joshua Creighton</td>\n",
       "      <td>30.0000</td>\n",
       "      <td>1</td>\n",
       "      <td>2</td>\n",
       "      <td>113781</td>\n",
       "      <td>151.5500</td>\n",
       "      <td>S</td>\n",
       "      <td>male</td>\n",
       "    </tr>\n",
       "    <tr>\n",
       "      <th>4</th>\n",
       "      <td>1</td>\n",
       "      <td>0</td>\n",
       "      <td>Allison, Mrs. Hudson J C (Bessie Waldo Daniels)</td>\n",
       "      <td>25.0000</td>\n",
       "      <td>1</td>\n",
       "      <td>2</td>\n",
       "      <td>113781</td>\n",
       "      <td>151.5500</td>\n",
       "      <td>S</td>\n",
       "      <td>female</td>\n",
       "    </tr>\n",
       "  </tbody>\n",
       "</table>\n",
       "</div>"
      ],
      "text/plain": [
       "   pclass  survived                                             name      age  \\\n",
       "0       1         1                    Allen, Miss. Elisabeth Walton  29.0000   \n",
       "1       1         1                   Allison, Master. Hudson Trevor   0.9167   \n",
       "2       1         0                     Allison, Miss. Helen Loraine   2.0000   \n",
       "3       1         0             Allison, Mr. Hudson Joshua Creighton  30.0000   \n",
       "4       1         0  Allison, Mrs. Hudson J C (Bessie Waldo Daniels)  25.0000   \n",
       "\n",
       "   sibsp  parch  ticket      fare embarked passenger  \n",
       "0      0      0   24160  211.3375        S    female  \n",
       "1      1      2  113781  151.5500        S     child  \n",
       "2      1      2  113781  151.5500        S     child  \n",
       "3      1      2  113781  151.5500        S      male  \n",
       "4      1      2  113781  151.5500        S    female  "
      ]
     },
     "execution_count": 100,
     "metadata": {},
     "output_type": "execute_result"
    }
   ],
   "source": [
    "df.head()"
   ]
  },
  {
   "cell_type": "markdown",
   "id": "11b3e61e-be5b-4f5f-9679-63ee92c8403a",
   "metadata": {},
   "source": [
    "*We will also drop the 'name' and 'ticket' columns since they wont contribute anything to our model.*"
   ]
  },
  {
   "cell_type": "code",
   "execution_count": 101,
   "id": "138f1c2a-5881-49be-bfe9-82042582ced5",
   "metadata": {},
   "outputs": [],
   "source": [
    "df.drop(['name','ticket'], axis =1, inplace=True)"
   ]
  },
  {
   "cell_type": "code",
   "execution_count": 102,
   "id": "ccc1af86-f0f5-4f78-9681-093641790e9f",
   "metadata": {},
   "outputs": [
    {
     "data": {
      "text/html": [
       "<div>\n",
       "<style scoped>\n",
       "    .dataframe tbody tr th:only-of-type {\n",
       "        vertical-align: middle;\n",
       "    }\n",
       "\n",
       "    .dataframe tbody tr th {\n",
       "        vertical-align: top;\n",
       "    }\n",
       "\n",
       "    .dataframe thead th {\n",
       "        text-align: right;\n",
       "    }\n",
       "</style>\n",
       "<table border=\"1\" class=\"dataframe\">\n",
       "  <thead>\n",
       "    <tr style=\"text-align: right;\">\n",
       "      <th></th>\n",
       "      <th>pclass</th>\n",
       "      <th>survived</th>\n",
       "      <th>age</th>\n",
       "      <th>sibsp</th>\n",
       "      <th>parch</th>\n",
       "      <th>fare</th>\n",
       "      <th>embarked</th>\n",
       "      <th>passenger</th>\n",
       "    </tr>\n",
       "  </thead>\n",
       "  <tbody>\n",
       "    <tr>\n",
       "      <th>0</th>\n",
       "      <td>1</td>\n",
       "      <td>1</td>\n",
       "      <td>29.0000</td>\n",
       "      <td>0</td>\n",
       "      <td>0</td>\n",
       "      <td>211.3375</td>\n",
       "      <td>S</td>\n",
       "      <td>female</td>\n",
       "    </tr>\n",
       "    <tr>\n",
       "      <th>1</th>\n",
       "      <td>1</td>\n",
       "      <td>1</td>\n",
       "      <td>0.9167</td>\n",
       "      <td>1</td>\n",
       "      <td>2</td>\n",
       "      <td>151.5500</td>\n",
       "      <td>S</td>\n",
       "      <td>child</td>\n",
       "    </tr>\n",
       "    <tr>\n",
       "      <th>2</th>\n",
       "      <td>1</td>\n",
       "      <td>0</td>\n",
       "      <td>2.0000</td>\n",
       "      <td>1</td>\n",
       "      <td>2</td>\n",
       "      <td>151.5500</td>\n",
       "      <td>S</td>\n",
       "      <td>child</td>\n",
       "    </tr>\n",
       "    <tr>\n",
       "      <th>3</th>\n",
       "      <td>1</td>\n",
       "      <td>0</td>\n",
       "      <td>30.0000</td>\n",
       "      <td>1</td>\n",
       "      <td>2</td>\n",
       "      <td>151.5500</td>\n",
       "      <td>S</td>\n",
       "      <td>male</td>\n",
       "    </tr>\n",
       "    <tr>\n",
       "      <th>4</th>\n",
       "      <td>1</td>\n",
       "      <td>0</td>\n",
       "      <td>25.0000</td>\n",
       "      <td>1</td>\n",
       "      <td>2</td>\n",
       "      <td>151.5500</td>\n",
       "      <td>S</td>\n",
       "      <td>female</td>\n",
       "    </tr>\n",
       "  </tbody>\n",
       "</table>\n",
       "</div>"
      ],
      "text/plain": [
       "   pclass  survived      age  sibsp  parch      fare embarked passenger\n",
       "0       1         1  29.0000      0      0  211.3375        S    female\n",
       "1       1         1   0.9167      1      2  151.5500        S     child\n",
       "2       1         0   2.0000      1      2  151.5500        S     child\n",
       "3       1         0  30.0000      1      2  151.5500        S      male\n",
       "4       1         0  25.0000      1      2  151.5500        S    female"
      ]
     },
     "execution_count": 102,
     "metadata": {},
     "output_type": "execute_result"
    }
   ],
   "source": [
    "df.head()"
   ]
  },
  {
   "cell_type": "markdown",
   "id": "caa6ef68-bc7d-4e46-a353-c01d9cc8094d",
   "metadata": {},
   "source": [
    "### Encoding categorical values"
   ]
  },
  {
   "cell_type": "markdown",
   "id": "a8df8dcd-6282-47ed-b38a-86630eb77b66",
   "metadata": {},
   "source": [
    "*The last preprocess step that we will do is to convert categorical features, the 'passenger' and 'embarked' attributes, into dummy variables in order for our machine learning algorithm to accept them as inputs. One important thing to note here is that the 'pclass' attribute may have numerical values, but it is actually a categorical attribute since it only takes values from 1 to 3, which are the categories of the passenger class.*"
   ]
  },
  {
   "cell_type": "code",
   "execution_count": 108,
   "id": "e07d85a9-d40d-45bf-ad5c-086499bdeb15",
   "metadata": {},
   "outputs": [],
   "source": [
    "categorical_feats = ['embarked','passenger','pclass']"
   ]
  },
  {
   "cell_type": "code",
   "execution_count": 109,
   "id": "8cb6a2cc-9478-4a8f-a80b-6ec7a5617a4e",
   "metadata": {},
   "outputs": [],
   "source": [
    "final_df = pd.get_dummies(df, columns=categorical_feats,drop_first = True)"
   ]
  },
  {
   "cell_type": "code",
   "execution_count": 110,
   "id": "d451842b-7140-49c9-bff3-77a6caaf35aa",
   "metadata": {},
   "outputs": [
    {
     "data": {
      "text/html": [
       "<div>\n",
       "<style scoped>\n",
       "    .dataframe tbody tr th:only-of-type {\n",
       "        vertical-align: middle;\n",
       "    }\n",
       "\n",
       "    .dataframe tbody tr th {\n",
       "        vertical-align: top;\n",
       "    }\n",
       "\n",
       "    .dataframe thead th {\n",
       "        text-align: right;\n",
       "    }\n",
       "</style>\n",
       "<table border=\"1\" class=\"dataframe\">\n",
       "  <thead>\n",
       "    <tr style=\"text-align: right;\">\n",
       "      <th></th>\n",
       "      <th>survived</th>\n",
       "      <th>age</th>\n",
       "      <th>sibsp</th>\n",
       "      <th>parch</th>\n",
       "      <th>fare</th>\n",
       "      <th>embarked_Q</th>\n",
       "      <th>embarked_S</th>\n",
       "      <th>passenger_female</th>\n",
       "      <th>passenger_male</th>\n",
       "      <th>pclass_2</th>\n",
       "      <th>pclass_3</th>\n",
       "    </tr>\n",
       "  </thead>\n",
       "  <tbody>\n",
       "    <tr>\n",
       "      <th>0</th>\n",
       "      <td>1</td>\n",
       "      <td>29.0000</td>\n",
       "      <td>0</td>\n",
       "      <td>0</td>\n",
       "      <td>211.3375</td>\n",
       "      <td>0</td>\n",
       "      <td>1</td>\n",
       "      <td>1</td>\n",
       "      <td>0</td>\n",
       "      <td>0</td>\n",
       "      <td>0</td>\n",
       "    </tr>\n",
       "    <tr>\n",
       "      <th>1</th>\n",
       "      <td>1</td>\n",
       "      <td>0.9167</td>\n",
       "      <td>1</td>\n",
       "      <td>2</td>\n",
       "      <td>151.5500</td>\n",
       "      <td>0</td>\n",
       "      <td>1</td>\n",
       "      <td>0</td>\n",
       "      <td>0</td>\n",
       "      <td>0</td>\n",
       "      <td>0</td>\n",
       "    </tr>\n",
       "    <tr>\n",
       "      <th>2</th>\n",
       "      <td>0</td>\n",
       "      <td>2.0000</td>\n",
       "      <td>1</td>\n",
       "      <td>2</td>\n",
       "      <td>151.5500</td>\n",
       "      <td>0</td>\n",
       "      <td>1</td>\n",
       "      <td>0</td>\n",
       "      <td>0</td>\n",
       "      <td>0</td>\n",
       "      <td>0</td>\n",
       "    </tr>\n",
       "    <tr>\n",
       "      <th>3</th>\n",
       "      <td>0</td>\n",
       "      <td>30.0000</td>\n",
       "      <td>1</td>\n",
       "      <td>2</td>\n",
       "      <td>151.5500</td>\n",
       "      <td>0</td>\n",
       "      <td>1</td>\n",
       "      <td>0</td>\n",
       "      <td>1</td>\n",
       "      <td>0</td>\n",
       "      <td>0</td>\n",
       "    </tr>\n",
       "    <tr>\n",
       "      <th>4</th>\n",
       "      <td>0</td>\n",
       "      <td>25.0000</td>\n",
       "      <td>1</td>\n",
       "      <td>2</td>\n",
       "      <td>151.5500</td>\n",
       "      <td>0</td>\n",
       "      <td>1</td>\n",
       "      <td>1</td>\n",
       "      <td>0</td>\n",
       "      <td>0</td>\n",
       "      <td>0</td>\n",
       "    </tr>\n",
       "  </tbody>\n",
       "</table>\n",
       "</div>"
      ],
      "text/plain": [
       "   survived      age  sibsp  parch      fare  embarked_Q  embarked_S  \\\n",
       "0         1  29.0000      0      0  211.3375           0           1   \n",
       "1         1   0.9167      1      2  151.5500           0           1   \n",
       "2         0   2.0000      1      2  151.5500           0           1   \n",
       "3         0  30.0000      1      2  151.5500           0           1   \n",
       "4         0  25.0000      1      2  151.5500           0           1   \n",
       "\n",
       "   passenger_female  passenger_male  pclass_2  pclass_3  \n",
       "0                 1               0         0         0  \n",
       "1                 0               0         0         0  \n",
       "2                 0               0         0         0  \n",
       "3                 0               1         0         0  \n",
       "4                 1               0         0         0  "
      ]
     },
     "execution_count": 110,
     "metadata": {},
     "output_type": "execute_result"
    }
   ],
   "source": [
    "final_df.head()"
   ]
  },
  {
   "cell_type": "markdown",
   "id": "6f60fc2f-490c-4b08-b80f-8ec34c61adc3",
   "metadata": {},
   "source": [
    "*Now our dataframe is clean and ready for modelling.*"
   ]
  },
  {
   "cell_type": "markdown",
   "id": "b12783e7-2c6b-4202-b382-66116b6466c4",
   "metadata": {},
   "source": [
    "### Modelling with Logistic Regression"
   ]
  },
  {
   "cell_type": "markdown",
   "id": "39d25701-3f9a-4a44-a55e-9d2f42a6f8d2",
   "metadata": {},
   "source": [
    "*Create our features and split the dataset into train and test datasets.*"
   ]
  },
  {
   "cell_type": "code",
   "execution_count": 114,
   "id": "5bca9072-88c7-4776-9662-01535c966fc6",
   "metadata": {},
   "outputs": [],
   "source": [
    "from sklearn.model_selection import train_test_split\n",
    "from sklearn.linear_model import LogisticRegression"
   ]
  },
  {
   "cell_type": "code",
   "execution_count": 115,
   "id": "0397c63f-bd04-4f2a-a6b8-89561b371850",
   "metadata": {},
   "outputs": [],
   "source": [
    "X = final_df.drop('survived',axis =1)\n",
    "y = final_df['survived']"
   ]
  },
  {
   "cell_type": "code",
   "execution_count": 116,
   "id": "4beb61a5-b003-4c99-9c77-6d4e523548b8",
   "metadata": {},
   "outputs": [],
   "source": [
    "X_train, X_test, y_train, y_test = train_test_split(X, y, test_size=0.30, random_state=42)"
   ]
  },
  {
   "cell_type": "markdown",
   "id": "c14e52fc-f16f-403d-b152-e969910b23ca",
   "metadata": {},
   "source": [
    "*Instantiate the model, fit it and make predictions.*"
   ]
  },
  {
   "cell_type": "code",
   "execution_count": 127,
   "id": "d93772a2-33e8-49e9-9e34-42786246f558",
   "metadata": {
    "tags": []
   },
   "outputs": [],
   "source": [
    "lrmodel = LogisticRegression(solver = 'liblinear')\n",
    "lrmodel.fit(X_train, y_train)\n",
    "predictions = lrmodel.predict(X_test)"
   ]
  },
  {
   "cell_type": "markdown",
   "id": "867e5595-1cca-442e-8e14-6647c3339326",
   "metadata": {},
   "source": [
    "*Validate our model.*"
   ]
  },
  {
   "cell_type": "code",
   "execution_count": 128,
   "id": "52aa73af-ad12-41a2-b17f-8142c12a27a1",
   "metadata": {},
   "outputs": [],
   "source": [
    "from sklearn.metrics import classification_report\n",
    "from sklearn.metrics import confusion_matrix"
   ]
  },
  {
   "cell_type": "code",
   "execution_count": 129,
   "id": "01801aff-386b-4c96-b504-48e562d8b9f0",
   "metadata": {},
   "outputs": [
    {
     "name": "stdout",
     "output_type": "stream",
     "text": [
      "              precision    recall  f1-score   support\n",
      "\n",
      "           0       0.82      0.87      0.84       239\n",
      "           1       0.77      0.70      0.73       153\n",
      "\n",
      "    accuracy                           0.80       392\n",
      "   macro avg       0.79      0.78      0.79       392\n",
      "weighted avg       0.80      0.80      0.80       392\n",
      "\n"
     ]
    }
   ],
   "source": [
    "print(classification_report(y_test, predictions))"
   ]
  },
  {
   "cell_type": "code",
   "execution_count": 130,
   "id": "38942d4f-74af-4f22-b747-a16b9f7fd85f",
   "metadata": {},
   "outputs": [
    {
     "name": "stdout",
     "output_type": "stream",
     "text": [
      "[[207  32]\n",
      " [ 46 107]]\n"
     ]
    }
   ],
   "source": [
    "print(confusion_matrix(y_test, predictions))"
   ]
  },
  {
   "cell_type": "code",
   "execution_count": null,
   "id": "a912e222-8d29-4927-84c7-a438d959276f",
   "metadata": {},
   "outputs": [],
   "source": []
  }
 ],
 "metadata": {
  "kernelspec": {
   "display_name": "Python 3 (ipykernel)",
   "language": "python",
   "name": "python3"
  },
  "language_info": {
   "codemirror_mode": {
    "name": "ipython",
    "version": 3
   },
   "file_extension": ".py",
   "mimetype": "text/x-python",
   "name": "python",
   "nbconvert_exporter": "python",
   "pygments_lexer": "ipython3",
   "version": "3.9.7"
  }
 },
 "nbformat": 4,
 "nbformat_minor": 5
}
