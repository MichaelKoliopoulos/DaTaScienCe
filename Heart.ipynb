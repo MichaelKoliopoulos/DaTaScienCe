{
 "cells": [
  {
   "cell_type": "markdown",
   "id": "650f8a19-5728-471d-9d15-0e3c5f04ee34",
   "metadata": {},
   "source": [
    "# Identifying the Risk Factors of Heart Disease."
   ]
  },
  {
   "cell_type": "markdown",
   "id": "931fc370-2f62-4fbf-ac51-08b7a83cd260",
   "metadata": {},
   "source": [
    "*We will do an Exploratory Data Analysis to identify the factors that are associated with Coronary Heart Disease (CHD) and then build a Decision Tree Classifier that can predict the ten year risk of a patient developing CHD, given the certain risk factors.\n",
    "Furthermore, we will analyze the relationships present in this dataset, and come up with answers to questions susch as:*"
   ]
  },
  {
   "cell_type": "markdown",
   "id": "73af6d00-ff48-41f6-9a8b-8029fd0f4b02",
   "metadata": {},
   "source": [
    "- *Are patients with diabetes more likely to develop heart disease at an early age?*\n",
    "- *Is there a certain demographic group that is at higher risk of heart disease than others?*\n",
    "- *Are smokers more likely to develop heart disease than non-smokers?*\n",
    "- *Does frequent exercise lower the risk of developing heart disease?*\n",
    "- *How major is the contribution of Cholesterol in developing CHD?*\n",
    "- *Does the Body Mass Index have any correlation with CHD?*"
   ]
  },
  {
   "cell_type": "markdown",
   "id": "8feb8054-b8f3-476a-a488-21f6e1b9f711",
   "metadata": {},
   "source": [
    "### Dataset"
   ]
  },
  {
   "cell_type": "markdown",
   "id": "bf4a772e-ee05-49d1-a145-b2f127d728da",
   "metadata": {},
   "source": [
    "*The Dataset comes from the Framingham Heart Study and is publicly available from the BioLINCC website upor request.*"
   ]
  },
  {
   "cell_type": "markdown",
   "id": "041358bb-83cb-4148-b0fe-fa1cedb5bbd7",
   "metadata": {},
   "source": [
    "*The Framingham Heart Study was a turning point in identifying the risk factors of heart disease, and is one of the most important epidemiological studies conducted. To better understand heart disease and the measures that could be taken to combat it, the Framingham Heart Study (FHS) was established in the late 1940's. It was a joint project of Boston University and the National Heart, Lung, and Blood Institute (NHLBI). \n",
    "A large cohort of initially healthy patients between the age group 30 and 59 in the city of Framingham, Massachusetts were tracked for a period of 20 years, to better understand cardiovascular disease. The study was conducted with an initial cohort of 5209 patients. The aim of the study was to enroll people free of the disease, and see who developed the disease in the next 20 years. Every two years, the participants would have to report to a testing center, where an examination was conducted. The patients were examined and their health information was updated.\n",
    "The data collected from this study allowed for a better understanding of the risk factors of heart disease. Medical interventions then took place based on the findings of the FHS. The FHS has contributed greatly in reducing mortality rates associated with CHD, and has corrected many clinical misconceptions about heart disease.*"
   ]
  },
  {
   "cell_type": "code",
   "execution_count": 2,
   "id": "f3f5e7d5-036b-4f2b-9450-679b0b35a831",
   "metadata": {},
   "outputs": [],
   "source": [
    "import pandas as pd\n",
    "import numpy as np\n",
    "import matplotlib.pyplot as plt\n",
    "import seaborn as sns\n",
    "%matplotlib inline"
   ]
  },
  {
   "cell_type": "code",
   "execution_count": 8,
   "id": "a96f513a-162e-46a8-8613-34ae9fc0f608",
   "metadata": {},
   "outputs": [],
   "source": [
    "df = pd.read_csv('framingham.csv')"
   ]
  },
  {
   "cell_type": "code",
   "execution_count": 7,
   "id": "238947f1-b9c5-4925-aba2-3e48a81826f2",
   "metadata": {},
   "outputs": [
    {
     "data": {
      "text/html": [
       "<div>\n",
       "<style scoped>\n",
       "    .dataframe tbody tr th:only-of-type {\n",
       "        vertical-align: middle;\n",
       "    }\n",
       "\n",
       "    .dataframe tbody tr th {\n",
       "        vertical-align: top;\n",
       "    }\n",
       "\n",
       "    .dataframe thead th {\n",
       "        text-align: right;\n",
       "    }\n",
       "</style>\n",
       "<table border=\"1\" class=\"dataframe\">\n",
       "  <thead>\n",
       "    <tr style=\"text-align: right;\">\n",
       "      <th></th>\n",
       "      <th>male</th>\n",
       "      <th>age</th>\n",
       "      <th>education</th>\n",
       "      <th>currentSmoker</th>\n",
       "      <th>cigsPerDay</th>\n",
       "      <th>BPMeds</th>\n",
       "      <th>prevalentStroke</th>\n",
       "      <th>prevalentHyp</th>\n",
       "      <th>diabetes</th>\n",
       "      <th>totChol</th>\n",
       "      <th>sysBP</th>\n",
       "      <th>diaBP</th>\n",
       "      <th>BMI</th>\n",
       "      <th>heartRate</th>\n",
       "      <th>glucose</th>\n",
       "      <th>TenYearCHD</th>\n",
       "    </tr>\n",
       "  </thead>\n",
       "  <tbody>\n",
       "    <tr>\n",
       "      <th>0</th>\n",
       "      <td>1</td>\n",
       "      <td>39</td>\n",
       "      <td>4.0</td>\n",
       "      <td>0</td>\n",
       "      <td>0.0</td>\n",
       "      <td>0.0</td>\n",
       "      <td>0</td>\n",
       "      <td>0</td>\n",
       "      <td>0</td>\n",
       "      <td>195.0</td>\n",
       "      <td>106.0</td>\n",
       "      <td>70.0</td>\n",
       "      <td>26.97</td>\n",
       "      <td>80.0</td>\n",
       "      <td>77.0</td>\n",
       "      <td>0</td>\n",
       "    </tr>\n",
       "    <tr>\n",
       "      <th>1</th>\n",
       "      <td>0</td>\n",
       "      <td>46</td>\n",
       "      <td>2.0</td>\n",
       "      <td>0</td>\n",
       "      <td>0.0</td>\n",
       "      <td>0.0</td>\n",
       "      <td>0</td>\n",
       "      <td>0</td>\n",
       "      <td>0</td>\n",
       "      <td>250.0</td>\n",
       "      <td>121.0</td>\n",
       "      <td>81.0</td>\n",
       "      <td>28.73</td>\n",
       "      <td>95.0</td>\n",
       "      <td>76.0</td>\n",
       "      <td>0</td>\n",
       "    </tr>\n",
       "    <tr>\n",
       "      <th>2</th>\n",
       "      <td>1</td>\n",
       "      <td>48</td>\n",
       "      <td>1.0</td>\n",
       "      <td>1</td>\n",
       "      <td>20.0</td>\n",
       "      <td>0.0</td>\n",
       "      <td>0</td>\n",
       "      <td>0</td>\n",
       "      <td>0</td>\n",
       "      <td>245.0</td>\n",
       "      <td>127.5</td>\n",
       "      <td>80.0</td>\n",
       "      <td>25.34</td>\n",
       "      <td>75.0</td>\n",
       "      <td>70.0</td>\n",
       "      <td>0</td>\n",
       "    </tr>\n",
       "    <tr>\n",
       "      <th>3</th>\n",
       "      <td>0</td>\n",
       "      <td>61</td>\n",
       "      <td>3.0</td>\n",
       "      <td>1</td>\n",
       "      <td>30.0</td>\n",
       "      <td>0.0</td>\n",
       "      <td>0</td>\n",
       "      <td>1</td>\n",
       "      <td>0</td>\n",
       "      <td>225.0</td>\n",
       "      <td>150.0</td>\n",
       "      <td>95.0</td>\n",
       "      <td>28.58</td>\n",
       "      <td>65.0</td>\n",
       "      <td>103.0</td>\n",
       "      <td>1</td>\n",
       "    </tr>\n",
       "    <tr>\n",
       "      <th>4</th>\n",
       "      <td>0</td>\n",
       "      <td>46</td>\n",
       "      <td>3.0</td>\n",
       "      <td>1</td>\n",
       "      <td>23.0</td>\n",
       "      <td>0.0</td>\n",
       "      <td>0</td>\n",
       "      <td>0</td>\n",
       "      <td>0</td>\n",
       "      <td>285.0</td>\n",
       "      <td>130.0</td>\n",
       "      <td>84.0</td>\n",
       "      <td>23.10</td>\n",
       "      <td>85.0</td>\n",
       "      <td>85.0</td>\n",
       "      <td>0</td>\n",
       "    </tr>\n",
       "  </tbody>\n",
       "</table>\n",
       "</div>"
      ],
      "text/plain": [
       "   male  age  education  currentSmoker  cigsPerDay  BPMeds  prevalentStroke  \\\n",
       "0     1   39        4.0              0         0.0     0.0                0   \n",
       "1     0   46        2.0              0         0.0     0.0                0   \n",
       "2     1   48        1.0              1        20.0     0.0                0   \n",
       "3     0   61        3.0              1        30.0     0.0                0   \n",
       "4     0   46        3.0              1        23.0     0.0                0   \n",
       "\n",
       "   prevalentHyp  diabetes  totChol  sysBP  diaBP    BMI  heartRate  glucose  \\\n",
       "0             0         0    195.0  106.0   70.0  26.97       80.0     77.0   \n",
       "1             0         0    250.0  121.0   81.0  28.73       95.0     76.0   \n",
       "2             0         0    245.0  127.5   80.0  25.34       75.0     70.0   \n",
       "3             1         0    225.0  150.0   95.0  28.58       65.0    103.0   \n",
       "4             0         0    285.0  130.0   84.0  23.10       85.0     85.0   \n",
       "\n",
       "   TenYearCHD  \n",
       "0           0  \n",
       "1           0  \n",
       "2           0  \n",
       "3           1  \n",
       "4           0  "
      ]
     },
     "execution_count": 7,
     "metadata": {},
     "output_type": "execute_result"
    }
   ],
   "source": [
    "df.head()"
   ]
  },
  {
   "cell_type": "markdown",
   "id": "ea2f4d4a-fee6-4a49-bdb1-f87b65c298a0",
   "metadata": {},
   "source": [
    "*The data frame consists of 16 variables. 15 independent variables, or risk factors, and 1 dependent variable.*"
   ]
  },
  {
   "cell_type": "markdown",
   "id": "6740a5f8-bbdb-4093-a62f-34e235407b5b",
   "metadata": {},
   "source": [
    "- *Male : A value of 1 indicates that the participant is male, and 0 indicates they are female.*\n",
    "- *Age: The age of the participant.*\n",
    "- *Education Level: 1-High School, 2-High School Diploma/GED, 3-College, 4-Degree.*\n",
    "- *currentSmoker: 1- The participant is a current smoker, 0- participant does not smoke currently.*\n",
    "- *cigsPerDay: Number of cigarettes smoked per day.*\n",
    "- *BPMeds: Amount of Anti-hypertensive  medication the participant is on.*\n",
    "- *prevalentStroke: 0- no prevalence of stroke, 1-has had occurrences of stroke.*\n",
    "- *prevalentHyp: 0-no prevalence of hypertension, 1-prevalence of hypertension.*\n",
    "- *diabetes: 0-no diabetes, 1-has diabetes.*\n",
    "- *totChol: Total cholesterol.*\n",
    "- *sysBP: Systolic blood pressure.*\n",
    "- *diaBP: Diastolic blood pressure.*\n",
    "- *BMI: Body Mass Index.*\n",
    "- *Heart Rate: Heart rate in bpm.*\n",
    "- *Glucose: Glucose level (mg/dL).*\n",
    "- *TenYearCHD : The 10 year risk of coronary heart disease(CHD). This is our Target Dependent Variable.*"
   ]
  },
  {
   "cell_type": "markdown",
   "id": "ac86353f-3768-46e4-ae81-9a004b2cae5c",
   "metadata": {},
   "source": [
    "### Exploratory Data Analysis"
   ]
  },
  {
   "cell_type": "markdown",
   "id": "aed23d0c-3d64-48bb-b047-53e82e0fe426",
   "metadata": {},
   "source": [
    "*Let's perform some visualizations, to get insights on the data. There are many risk factors such as smoking and high Cholesterol levels that were found by the Framingham Heart Study to increase 10 year risk of CHD. We will look at these factors and see if we can find these relationships in the dataset.*"
   ]
  },
  {
   "cell_type": "markdown",
   "id": "5d96ba8b-e501-408f-8b70-02ca760adcf9",
   "metadata": {},
   "source": [
    "*First let's check the demographic information of the participants.*"
   ]
  },
  {
   "cell_type": "markdown",
   "id": "a8c6b783-aaba-432d-8422-cc4ed057a034",
   "metadata": {},
   "source": [
    "*We will create a countplot of the 'male' variable to see the distribution of men and women.*"
   ]
  },
  {
   "cell_type": "code",
   "execution_count": 52,
   "id": "b643107e-55c6-4317-a3e4-2e8b1cda1720",
   "metadata": {},
   "outputs": [
    {
     "name": "stdout",
     "output_type": "stream",
     "text": [
      "Percentages of women (0) and men (1):\n"
     ]
    },
    {
     "data": {
      "text/plain": [
       "0    0.570755\n",
       "1    0.429245\n",
       "Name: male, dtype: float64"
      ]
     },
     "execution_count": 52,
     "metadata": {},
     "output_type": "execute_result"
    },
    {
     "data": {
      "image/png": "[encoded data removed]",
      "text/plain": [
       "<Figure size 864x576 with 1 Axes>"
      ]
     },
     "metadata": {
      "needs_background": "light"
     },
     "output_type": "display_data"
    }
   ],
   "source": [
    "plt.figure(figsize=(12,8))\n",
    "sns.countplot(x = 'male', data = df, palette='pastel')\n",
    "print('Percentages of women (0) and men (1):')\n",
    "df['male'].value_counts(normalize=True)"
   ]
  },
  {
   "cell_type": "markdown",
   "id": "a1d40ec3-4d65-4c0e-b910-cb3b58fd0587",
   "metadata": {},
   "source": [
    "*We can see that men represent about 43% of the sample while women the 57%.*"
   ]
  },
  {
   "cell_type": "markdown",
   "id": "e6e0e23d-7426-4580-a4fc-d21da0f2501c",
   "metadata": {},
   "source": [
    "*Now, we will create a distribution plot of the 'age' variable to visualize better how the age of the participants is spread across the sample.*"
   ]
  },
  {
   "cell_type": "code",
   "execution_count": 43,
   "id": "603317b5-04e2-4c22-80a6-dc2baadac8e3",
   "metadata": {},
   "outputs": [
    {
     "data": {
      "text/plain": [
       "<AxesSubplot:xlabel='age', ylabel='Count'>"
      ]
     },
     "execution_count": 43,
     "metadata": {},
     "output_type": "execute_result"
    },
    {
     "data": {
      "image/png": "[encoded data removed]",
      "text/plain": [
       "<Figure size 864x576 with 1 Axes>"
      ]
     },
     "metadata": {
      "needs_background": "light"
     },
     "output_type": "display_data"
    }
   ],
   "source": [
    "plt.figure(figsize=(12,8))\n",
    "sns.histplot(df['age'], palette='pastel')"
   ]
  },
  {
   "cell_type": "markdown",
   "id": "7d97d26d-0074-435f-b487-29d2ecaaf3c0",
   "metadata": {},
   "source": [
    "*We can clearly see that the majority of the participants reside between the ages of 35 - 65 years.*"
   ]
  },
  {
   "cell_type": "markdown",
   "id": "0845f07f-54a6-4437-a27e-2a9c08e21898",
   "metadata": {},
   "source": [
    "*Now we will do a countplot of the Education Level.*"
   ]
  },
  {
   "cell_type": "code",
   "execution_count": 47,
   "id": "cdd0a9f5-ac05-4765-ab01-0c7a3d45c3df",
   "metadata": {},
   "outputs": [
    {
     "data": {
      "text/plain": [
       "<AxesSubplot:xlabel='education', ylabel='count'>"
      ]
     },
     "execution_count": 47,
     "metadata": {},
     "output_type": "execute_result"
    },
    {
     "data": {
      "image/png": "[encoded data removed]",
      "text/plain": [
       "<Figure size 864x576 with 1 Axes>"
      ]
     },
     "metadata": {
      "needs_background": "light"
     },
     "output_type": "display_data"
    }
   ],
   "source": [
    "plt.figure(figsize=(12,8))\n",
    "sns.countplot(x = 'education', data = df, palette = 'pastel')"
   ]
  },
  {
   "cell_type": "markdown",
   "id": "851522d5-7b0b-4c0c-8fb8-8e2e4f454c84",
   "metadata": {},
   "source": [
    "*The majority of the participants have either attended High School or have a High School Diploma/ GED.*"
   ]
  },
  {
   "cell_type": "markdown",
   "id": "1a9965f5-883a-47a0-b435-d60e0ddfa45d",
   "metadata": {},
   "source": [
    "*Now, we will see the distribution between smokers and not smokers.*"
   ]
  },
  {
   "cell_type": "code",
   "execution_count": 51,
   "id": "51d4bf0a-757d-43c8-b254-e8e09a8ba48a",
   "metadata": {},
   "outputs": [
    {
     "name": "stdout",
     "output_type": "stream",
     "text": [
      "Percentages of smokers (1) and non-smokers (0): \n"
     ]
    },
    {
     "data": {
      "text/plain": [
       "0    0.505896\n",
       "1    0.494104\n",
       "Name: currentSmoker, dtype: float64"
      ]
     },
     "execution_count": 51,
     "metadata": {},
     "output_type": "execute_result"
    },
    {
     "data": {
      "image/png": "[encoded data removed]",
      "text/plain": [
       "<Figure size 864x576 with 1 Axes>"
      ]
     },
     "metadata": {
      "needs_background": "light"
     },
     "output_type": "display_data"
    }
   ],
   "source": [
    "plt.figure(figsize=(12,8))\n",
    "sns.countplot(x = 'currentSmoker', data = df, palette = 'pastel')\n",
    "print('Percentages of smokers (1) and non-smokers (0): ')\n",
    "df['currentSmoker'].value_counts(normalize=True)"
   ]
  },
  {
   "cell_type": "markdown",
   "id": "35b0394a-0dd3-44e9-8471-c3431427f625",
   "metadata": {},
   "source": [
    "*Both the smokers and non smokers are represented about equally in our sample.*"
   ]
  },
  {
   "cell_type": "markdown",
   "id": "a087e16e-66a5-43a1-b115-0d4995a1c074",
   "metadata": {},
   "source": [
    "*Now, let's look at some risk factors.*"
   ]
  },
  {
   "cell_type": "markdown",
   "id": "454e2e22-c9ca-464b-8142-c7da0a196866",
   "metadata": {},
   "source": [
    "*Let's see if we can find some correlation between the amount of cigarettes per day and the development of CHD.*"
   ]
  },
  {
   "cell_type": "code",
   "execution_count": 11,
   "id": "065c0fea-82a3-43e3-b2ff-1864ee5f4b02",
   "metadata": {},
   "outputs": [
    {
     "data": {
      "text/plain": [
       "<AxesSubplot:xlabel='TenYearCHD', ylabel='cigsPerDay'>"
      ]
     },
     "execution_count": 11,
     "metadata": {},
     "output_type": "execute_result"
    },
    {
     "data": {
      "image/png": "[encoded data removed]",
      "text/plain": [
       "<Figure size 864x576 with 1 Axes>"
      ]
     },
     "metadata": {
      "needs_background": "light"
     },
     "output_type": "display_data"
    }
   ],
   "source": [
    "plt.figure(figsize=(12,8))\n",
    "sns.barplot(x = 'TenYearCHD', y = 'cigsPerDay', data = df, palette = 'pastel')"
   ]
  },
  {
   "cell_type": "markdown",
   "id": "f2c8585c-9a92-435e-a753-248abef976d1",
   "metadata": {},
   "source": [
    "*We can see that patients who have a ten year CHD risk, smoke more cigarettes per day than those who don't.*"
   ]
  },
  {
   "cell_type": "markdown",
   "id": "c89bd18d-cf90-4c96-992e-a0e7ab00b327",
   "metadata": {},
   "source": [
    "*How about the relationship between Total Cholesterol and ten year CHD.*"
   ]
  },
  {
   "cell_type": "code",
   "execution_count": 12,
   "id": "efe48a36-ded2-4c78-9974-7f7282a8f6a3",
   "metadata": {},
   "outputs": [
    {
     "data": {
      "text/plain": [
       "<AxesSubplot:xlabel='TenYearCHD', ylabel='totChol'>"
      ]
     },
     "execution_count": 12,
     "metadata": {},
     "output_type": "execute_result"
    },
    {
     "data": {
      "image/png": "[encoded data removed]",
      "text/plain": [
       "<Figure size 864x576 with 1 Axes>"
      ]
     },
     "metadata": {
      "needs_background": "light"
     },
     "output_type": "display_data"
    }
   ],
   "source": [
    "plt.figure(figsize=(12,8))\n",
    "sns.barplot(x = 'TenYearCHD', y = 'totChol', data = df, palette = 'pastel')"
   ]
  },
  {
   "cell_type": "markdown",
   "id": "63454c6e-fb49-4090-ba10-b81e81461f50",
   "metadata": {},
   "source": [
    "*It seems that participants with a ten year CHD risk have slightly higher levels of Total Cholesterol.*"
   ]
  },
  {
   "cell_type": "markdown",
   "id": "d5392e58-958f-47d7-b558-3f2646f5cdec",
   "metadata": {},
   "source": [
    "*How about the relationship between Body Mass Index (BMI) and the ten year CHD risk.*"
   ]
  },
  {
   "cell_type": "code",
   "execution_count": 13,
   "id": "769afc3d-b0c1-4f60-9e57-db7c9d113fb8",
   "metadata": {},
   "outputs": [
    {
     "data": {
      "text/plain": [
       "<AxesSubplot:xlabel='TenYearCHD', ylabel='BMI'>"
      ]
     },
     "execution_count": 13,
     "metadata": {},
     "output_type": "execute_result"
    },
    {
     "data": {
      "image/png": "[encoded data removed]",
      "text/plain": [
       "<Figure size 864x576 with 1 Axes>"
      ]
     },
     "metadata": {
      "needs_background": "light"
     },
     "output_type": "display_data"
    }
   ],
   "source": [
    "plt.figure(figsize=(12,8))\n",
    "sns.barplot(x = 'TenYearCHD', y = 'BMI', data = df, palette = 'pastel')"
   ]
  },
  {
   "cell_type": "markdown",
   "id": "828c8c3c-055d-4a67-a028-88181f343b0f",
   "metadata": {},
   "source": [
    "*It seems that participants with a ten year CHD risk have slightly higher levels of Body Mass Index.*"
   ]
  },
  {
   "cell_type": "markdown",
   "id": "0e742ce9-aed6-40ba-96cd-ec0014d79336",
   "metadata": {},
   "source": [
    "*Now let's inspect the relationship between prevalence of Stroke and prevalence of Hypertension with the ten year CHD risk.*"
   ]
  },
  {
   "cell_type": "code",
   "execution_count": 14,
   "id": "08289645-1981-4a90-8950-1b010fa18279",
   "metadata": {},
   "outputs": [
    {
     "data": {
      "text/plain": [
       "<AxesSubplot:xlabel='TenYearCHD', ylabel='prevalentStroke'>"
      ]
     },
     "execution_count": 14,
     "metadata": {},
     "output_type": "execute_result"
    },
    {
     "data": {
      "image/png": "[encoded data removed]",
      "text/plain": [
       "<Figure size 864x576 with 1 Axes>"
      ]
     },
     "metadata": {
      "needs_background": "light"
     },
     "output_type": "display_data"
    }
   ],
   "source": [
    "plt.figure(figsize=(12,8))\n",
    "sns.barplot(x = 'TenYearCHD', y = 'prevalentStroke', data = df, palette = 'pastel')"
   ]
  },
  {
   "cell_type": "code",
   "execution_count": 15,
   "id": "e370b523-d7c4-4d04-821d-e3a151626d10",
   "metadata": {},
   "outputs": [
    {
     "data": {
      "text/plain": [
       "<AxesSubplot:xlabel='TenYearCHD', ylabel='prevalentHyp'>"
      ]
     },
     "execution_count": 15,
     "metadata": {},
     "output_type": "execute_result"
    },
    {
     "data": {
      "image/png": "[encoded data removed]",
      "text/plain": [
       "<Figure size 864x576 with 1 Axes>"
      ]
     },
     "metadata": {
      "needs_background": "light"
     },
     "output_type": "display_data"
    }
   ],
   "source": [
    "plt.figure(figsize=(12,8))\n",
    "sns.barplot(x = 'TenYearCHD', y = 'prevalentHyp', data = df, palette = 'pastel')"
   ]
  },
  {
   "cell_type": "markdown",
   "id": "ce49b306-d20c-48c4-9296-7d83a63fb5fc",
   "metadata": {},
   "source": [
    "*From the above graphs we can clearly deduce that there's a big correlation between prevalence of Stroke and Hypertension and the ten year CHD risk.*"
   ]
  },
  {
   "cell_type": "markdown",
   "id": "81882fea-32ac-44a2-a129-6e1c1cfebac1",
   "metadata": {},
   "source": [
    "*What about Glucose levels and diabetes.*"
   ]
  },
  {
   "cell_type": "code",
   "execution_count": 16,
   "id": "bc398abe-f7d8-4701-a333-c7ec8052825c",
   "metadata": {},
   "outputs": [
    {
     "data": {
      "text/plain": [
       "<AxesSubplot:xlabel='TenYearCHD', ylabel='glucose'>"
      ]
     },
     "execution_count": 16,
     "metadata": {},
     "output_type": "execute_result"
    },
    {
     "data": {
      "image/png": "[encoded data removed]",
      "text/plain": [
       "<Figure size 864x576 with 1 Axes>"
      ]
     },
     "metadata": {
      "needs_background": "light"
     },
     "output_type": "display_data"
    }
   ],
   "source": [
    "plt.figure(figsize=(12,8))\n",
    "sns.barplot(x = 'TenYearCHD', y = 'glucose', data = df, palette = 'pastel')"
   ]
  },
  {
   "cell_type": "code",
   "execution_count": 17,
   "id": "3e1453f8-d0c6-42c4-8cfc-8367eef78f47",
   "metadata": {},
   "outputs": [
    {
     "data": {
      "text/plain": [
       "<AxesSubplot:xlabel='TenYearCHD', ylabel='diabetes'>"
      ]
     },
     "execution_count": 17,
     "metadata": {},
     "output_type": "execute_result"
    },
    {
     "data": {
      "image/png": "[encoded data removed]",
      "text/plain": [
       "<Figure size 864x576 with 1 Axes>"
      ]
     },
     "metadata": {
      "needs_background": "light"
     },
     "output_type": "display_data"
    }
   ],
   "source": [
    "plt.figure(figsize=(12,8))\n",
    "sns.barplot(x = 'TenYearCHD', y = 'diabetes', data = df, palette = 'pastel')"
   ]
  },
  {
   "cell_type": "markdown",
   "id": "9e947b87-65cf-4fb0-9dc2-259f0da99841",
   "metadata": {},
   "source": [
    "*Participants with higher glucose levels are more likely to have a ten year CHD risk, while the prevalence of diabetes is a significant factor in developing a ten year CHD risk.*"
   ]
  },
  {
   "cell_type": "markdown",
   "id": "457635dc-c489-475d-84ab-90cbb0b1e360",
   "metadata": {},
   "source": [
    "*Finally, let's see the relationship between systolic, diastolic blood pressure and the ten year CHD risk.*"
   ]
  },
  {
   "cell_type": "code",
   "execution_count": 19,
   "id": "142e7073-f513-4c87-9bbc-f0568eaab7a2",
   "metadata": {},
   "outputs": [
    {
     "data": {
      "text/plain": [
       "<AxesSubplot:xlabel='TenYearCHD', ylabel='sysBP'>"
      ]
     },
     "execution_count": 19,
     "metadata": {},
     "output_type": "execute_result"
    },
    {
     "data": {
      "image/png": "[encoded data removed]",
      "text/plain": [
       "<Figure size 864x576 with 1 Axes>"
      ]
     },
     "metadata": {
      "needs_background": "light"
     },
     "output_type": "display_data"
    }
   ],
   "source": [
    "plt.figure(figsize=(12,8))\n",
    "sns.barplot(x = 'TenYearCHD', y = 'sysBP', data = df, palette = 'pastel')"
   ]
  },
  {
   "cell_type": "code",
   "execution_count": 20,
   "id": "21085e96-d0b9-4c8c-b11f-b9688fc305d1",
   "metadata": {},
   "outputs": [
    {
     "data": {
      "text/plain": [
       "<AxesSubplot:xlabel='TenYearCHD', ylabel='diaBP'>"
      ]
     },
     "execution_count": 20,
     "metadata": {},
     "output_type": "execute_result"
    },
    {
     "data": {
      "image/png": "[encoded data removed]",
      "text/plain": [
       "<Figure size 864x576 with 1 Axes>"
      ]
     },
     "metadata": {
      "needs_background": "light"
     },
     "output_type": "display_data"
    }
   ],
   "source": [
    "plt.figure(figsize=(12,8))\n",
    "sns.barplot(x = 'TenYearCHD', y = 'diaBP', data = df, palette = 'pastel')"
   ]
  },
  {
   "cell_type": "markdown",
   "id": "5785b61d-2b1c-4440-a99d-848f8ad472e4",
   "metadata": {},
   "source": [
    "*It can be seen that  blood pressure is linked with coronary heart disease. Participants with a ten year CHD risk seem to have higher blood pressure than the one's who don't.*"
   ]
  },
  {
   "cell_type": "markdown",
   "id": "92c1afb2-f12c-461b-8ec5-27bcd1fd30e8",
   "metadata": {},
   "source": [
    "### Data Preprocessing - Missing Values"
   ]
  },
  {
   "cell_type": "code",
   "execution_count": 22,
   "id": "cf91d7b9-6167-4b85-aa9f-895d7b9dd46f",
   "metadata": {},
   "outputs": [
    {
     "data": {
      "text/plain": [
       "male               False\n",
       "age                False\n",
       "education           True\n",
       "currentSmoker      False\n",
       "cigsPerDay          True\n",
       "BPMeds              True\n",
       "prevalentStroke    False\n",
       "prevalentHyp       False\n",
       "diabetes           False\n",
       "totChol             True\n",
       "sysBP              False\n",
       "diaBP              False\n",
       "BMI                 True\n",
       "heartRate           True\n",
       "glucose             True\n",
       "TenYearCHD         False\n",
       "dtype: bool"
      ]
     },
     "execution_count": 22,
     "metadata": {},
     "output_type": "execute_result"
    }
   ],
   "source": [
    "df.isnull().any()"
   ]
  },
  {
   "cell_type": "code",
   "execution_count": 23,
   "id": "c0178eaa-3257-4612-b56f-f39e1293e397",
   "metadata": {},
   "outputs": [
    {
     "name": "stdout",
     "output_type": "stream",
     "text": [
      "<class 'pandas.core.frame.DataFrame'>\n",
      "RangeIndex: 4240 entries, 0 to 4239\n",
      "Data columns (total 16 columns):\n",
      " #   Column           Non-Null Count  Dtype  \n",
      "---  ------           --------------  -----  \n",
      " 0   male             4240 non-null   int64  \n",
      " 1   age              4240 non-null   int64  \n",
      " 2   education        4135 non-null   float64\n",
      " 3   currentSmoker    4240 non-null   int64  \n",
      " 4   cigsPerDay       4211 non-null   float64\n",
      " 5   BPMeds           4187 non-null   float64\n",
      " 6   prevalentStroke  4240 non-null   int64  \n",
      " 7   prevalentHyp     4240 non-null   int64  \n",
      " 8   diabetes         4240 non-null   int64  \n",
      " 9   totChol          4190 non-null   float64\n",
      " 10  sysBP            4240 non-null   float64\n",
      " 11  diaBP            4240 non-null   float64\n",
      " 12  BMI              4221 non-null   float64\n",
      " 13  heartRate        4239 non-null   float64\n",
      " 14  glucose          3852 non-null   float64\n",
      " 15  TenYearCHD       4240 non-null   int64  \n",
      "dtypes: float64(9), int64(7)\n",
      "memory usage: 530.1 KB\n"
     ]
    }
   ],
   "source": [
    "df.info()"
   ]
  },
  {
   "cell_type": "code",
   "execution_count": 25,
   "id": "92a5d3a3-5697-4506-a6bf-ecde1292f27d",
   "metadata": {},
   "outputs": [
    {
     "data": {
      "text/plain": [
       "<AxesSubplot:>"
      ]
     },
     "execution_count": 25,
     "metadata": {},
     "output_type": "execute_result"
    },
    {
     "data": {
      "image/png": "[encoded data removed]",
      "text/plain": [
       "<Figure size 864x576 with 1 Axes>"
      ]
     },
     "metadata": {
      "needs_background": "light"
     },
     "output_type": "display_data"
    }
   ],
   "source": [
    "plt.figure(figsize=(12,8))\n",
    "sns.heatmap(df.isnull(), yticklabels=False, cbar = False, cmap = 'viridis')"
   ]
  },
  {
   "cell_type": "markdown",
   "id": "057dad16-f2e2-4ba5-9428-75f1d0ee0070",
   "metadata": {},
   "source": [
    "*There are some columns with missing values in the dataset. There are many methods to treat missing values, such as imputing with the mean value of the column or some other value, but for the sake of simplicity and due to the fact that the missing values are a small proportion of the sample, we are just going to drop them.*"
   ]
  },
  {
   "cell_type": "code",
   "execution_count": 26,
   "id": "2fcb0fef-f429-436a-92fc-e85498d1e50f",
   "metadata": {},
   "outputs": [],
   "source": [
    "df = df.dropna()"
   ]
  },
  {
   "cell_type": "code",
   "execution_count": 27,
   "id": "792e5c7a-587f-46be-b421-5bbb617ff53b",
   "metadata": {},
   "outputs": [
    {
     "data": {
      "text/plain": [
       "<AxesSubplot:>"
      ]
     },
     "execution_count": 27,
     "metadata": {},
     "output_type": "execute_result"
    },
    {
     "data": {
      "image/png": "[encoded data removed]",
      "text/plain": [
       "<Figure size 864x576 with 1 Axes>"
      ]
     },
     "metadata": {
      "needs_background": "light"
     },
     "output_type": "display_data"
    }
   ],
   "source": [
    "plt.figure(figsize=(12,8))\n",
    "sns.heatmap(df.isnull(), yticklabels=False, cbar = False, cmap = 'viridis')"
   ]
  },
  {
   "cell_type": "markdown",
   "id": "de319aba-b16b-475b-8217-a06f8686ecba",
   "metadata": {},
   "source": [
    "### Create a Baseline model, in order to benchmark our model."
   ]
  },
  {
   "cell_type": "markdown",
   "id": "188ed77e-7779-460c-9c9b-c5f4e1fcc05d",
   "metadata": {},
   "source": [
    "*When building machine learning models, it is essential to have a baseline by which you can compare the performance of the model you are building. The baseline you set gives you the benefit of knowing whether you are on track and whether your model is improving or not.*"
   ]
  },
  {
   "cell_type": "code",
   "execution_count": 28,
   "id": "2b809db8-f449-4a67-9716-9de434ede86a",
   "metadata": {},
   "outputs": [
    {
     "data": {
      "text/plain": [
       "Index(['male', 'age', 'education', 'currentSmoker', 'cigsPerDay', 'BPMeds',\n",
       "       'prevalentStroke', 'prevalentHyp', 'diabetes', 'totChol', 'sysBP',\n",
       "       'diaBP', 'BMI', 'heartRate', 'glucose', 'TenYearCHD'],\n",
       "      dtype='object')"
      ]
     },
     "execution_count": 28,
     "metadata": {},
     "output_type": "execute_result"
    }
   ],
   "source": [
    "df.columns"
   ]
  },
  {
   "cell_type": "code",
   "execution_count": 29,
   "id": "8b8a5463-7b0c-4b23-9473-6abcabab0b5f",
   "metadata": {},
   "outputs": [],
   "source": [
    "X = df.drop('TenYearCHD',axis =1)\n",
    "y = df['TenYearCHD']"
   ]
  },
  {
   "cell_type": "code",
   "execution_count": 30,
   "id": "aaa37923-9f98-4f93-8024-0651adcb0c3f",
   "metadata": {},
   "outputs": [
    {
     "data": {
      "text/plain": [
       "0.7460360852925095"
      ]
     },
     "execution_count": 30,
     "metadata": {},
     "output_type": "execute_result"
    }
   ],
   "source": [
    "from sklearn.dummy import DummyClassifier\n",
    "dummy_clf = DummyClassifier(strategy='stratified')\n",
    "dummy_clf.fit(X,y)\n",
    "dummy_clf.score(X,y)"
   ]
  },
  {
   "cell_type": "markdown",
   "id": "b64bc5e7-cdf5-4c33-a6af-815e4fd31c6c",
   "metadata": {},
   "source": [
    "### Imbalanced Dataset Handling"
   ]
  },
  {
   "cell_type": "code",
   "execution_count": 32,
   "id": "e8a09d93-622e-4c9a-bcab-406fbf294c50",
   "metadata": {},
   "outputs": [
    {
     "data": {
      "text/plain": [
       "0    0.847731\n",
       "1    0.152269\n",
       "Name: TenYearCHD, dtype: float64"
      ]
     },
     "execution_count": 32,
     "metadata": {},
     "output_type": "execute_result"
    }
   ],
   "source": [
    "df['TenYearCHD'].value_counts(normalize=True)"
   ]
  },
  {
   "cell_type": "markdown",
   "id": "bdd687af-de7a-4c39-8ac5-ce8b07d9d5bb",
   "metadata": {},
   "source": [
    "*As we can see by performing a quick value count on our target variable, the dataset is imbalanced, and more than 80% of the data are participants who don't have a ten year CHD risk. This bias in the training dataset can influence our machine learning algorithm possibly leading it to ignore the minority class entirely. This is a problem as it is typically the minority class on which predictions are most important.*"
   ]
  },
  {
   "cell_type": "markdown",
   "id": "42975127-9206-488a-991a-671223c22252",
   "metadata": {},
   "source": [
    "*In order to handle that we will use a combination of Oversampling and Undersampling.*"
   ]
  },
  {
   "cell_type": "markdown",
   "id": "9bb6a6e9-1099-48c9-8e0e-1c31c5562d67",
   "metadata": {},
   "source": [
    "*Random oversampling involves randomly duplicating examples from the minority class and adding them to the training dataset. While, Random undersampling involves randomly selecting examples from the majority class to delete from the training dataset.\n",
    "Interesting results may be achieved by combining both random oversampling and undersampling. For example, a modest amount of oversampling can be applied to the minority class to improve the bias towards these examples, whilst also applying a modest amount of undersampling to the majority class to reduce the bias on that class. This can result in improved overall performance compared to performing one or the other techniques in isolation. This could be implemented using imbalanced-learn by using a RandomOverSampler with sampling_strategy set to 0.1 (10%), then using a RandomUnderSampler with a sampling_strategy set to 0.5 (50%).*"
   ]
  },
  {
   "cell_type": "markdown",
   "id": "49e65410-cd3b-4d8e-81c9-baadee6f9ea7",
   "metadata": {},
   "source": [
    "### Import Libraries"
   ]
  },
  {
   "cell_type": "code",
   "execution_count": 33,
   "id": "3e37c626-1ecf-455b-9371-9013d43aa524",
   "metadata": {},
   "outputs": [],
   "source": [
    "from sklearn.model_selection import train_test_split\n",
    "from sklearn.tree import DecisionTreeClassifier\n",
    "from imblearn.pipeline import Pipeline\n",
    "from imblearn.under_sampling import RandomUnderSampler\n",
    "from imblearn.over_sampling import RandomOverSampler"
   ]
  },
  {
   "cell_type": "markdown",
   "id": "e61060d3-f508-4a2a-b3f0-36a83bc6e7ed",
   "metadata": {},
   "source": [
    "### Create Pipeline"
   ]
  },
  {
   "cell_type": "code",
   "execution_count": 64,
   "id": "f8df0044-7a64-428c-acbd-1461c1fce2a4",
   "metadata": {},
   "outputs": [],
   "source": [
    "oversample = RandomOverSampler(sampling_strategy='minority')\n",
    "X_over, y_over = oversample.fit_resample(X, y)\n",
    "X_train, X_test, y_train, y_test = train_test_split(X_over,y_over,test_size=0.35)\n",
    "steps = [('under', RandomUnderSampler()), ('model', DecisionTreeClassifier())]\n",
    "pipeline = Pipeline(steps=steps)"
   ]
  },
  {
   "cell_type": "markdown",
   "id": "afff2181-cbe7-4364-8004-1848e546e6b9",
   "metadata": {},
   "source": [
    "### Fit the Training Data to the Pipeline"
   ]
  },
  {
   "cell_type": "code",
   "execution_count": 65,
   "id": "d0eb33e1-063d-4295-92a1-c39ed7b86f99",
   "metadata": {},
   "outputs": [
    {
     "data": {
      "text/plain": [
       "Pipeline(steps=[('under', RandomUnderSampler()),\n",
       "                ('model', DecisionTreeClassifier())])"
      ]
     },
     "execution_count": 65,
     "metadata": {},
     "output_type": "execute_result"
    }
   ],
   "source": [
    "pipeline.fit(X_train,y_train)"
   ]
  },
  {
   "cell_type": "markdown",
   "id": "5f93c78b-502b-49f2-9cb5-8337c5238aff",
   "metadata": {},
   "source": [
    "### Make predictions on the Testing Data"
   ]
  },
  {
   "cell_type": "code",
   "execution_count": 66,
   "id": "665a9888-4244-4884-90ea-51605e940b27",
   "metadata": {},
   "outputs": [],
   "source": [
    "predictions = pipeline.predict(X_test)"
   ]
  },
  {
   "cell_type": "markdown",
   "id": "d2903098-78f2-4dd4-a2d2-622e495530cf",
   "metadata": {},
   "source": [
    "### Evaluate the model"
   ]
  },
  {
   "cell_type": "code",
   "execution_count": 68,
   "id": "931372d1-7a98-48c0-82eb-94ff549a4507",
   "metadata": {},
   "outputs": [
    {
     "name": "stdout",
     "output_type": "stream",
     "text": [
      "              precision    recall  f1-score   support\n",
      "\n",
      "           0       0.97      0.82      0.89      1084\n",
      "           1       0.84      0.97      0.90      1087\n",
      "\n",
      "    accuracy                           0.90      2171\n",
      "   macro avg       0.91      0.90      0.90      2171\n",
      "weighted avg       0.91      0.90      0.90      2171\n",
      "\n"
     ]
    },
    {
     "data": {
      "text/plain": [
       "0.8959005066789498"
      ]
     },
     "execution_count": 68,
     "metadata": {},
     "output_type": "execute_result"
    }
   ],
   "source": [
    "from sklearn.metrics import classification_report,accuracy_score\n",
    "print(classification_report(y_test,predictions))\n",
    "accuracy_score(y_test,predictions)"
   ]
  },
  {
   "cell_type": "markdown",
   "id": "dcf42699-207e-4b42-94b5-9e722684e453",
   "metadata": {},
   "source": [
    "*Our model seems to perform reasonably well, having high precisio and recall for both labels and has an accuracy of ~0.90, that beats the baseline accuracy of the dummy model.*"
   ]
  },
  {
   "cell_type": "code",
   "execution_count": null,
   "id": "3a67cb0a-17f2-4111-a549-ed19ea5805c0",
   "metadata": {},
   "outputs": [],
   "source": []
  }
 ],
 "metadata": {
  "kernelspec": {
   "display_name": "Python 3 (ipykernel)",
   "language": "python",
   "name": "python3"
  },
  "language_info": {
   "codemirror_mode": {
    "name": "ipython",
    "version": 3
   },
   "file_extension": ".py",
   "mimetype": "text/x-python",
   "name": "python",
   "nbconvert_exporter": "python",
   "pygments_lexer": "ipython3",
   "version": "3.9.7"
  }
 },
 "nbformat": 4,
 "nbformat_minor": 5
}
